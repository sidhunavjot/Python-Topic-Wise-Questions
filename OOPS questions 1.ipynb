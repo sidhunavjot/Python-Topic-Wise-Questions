{
 "cells": [
  {
   "cell_type": "code",
   "execution_count": 15,
   "id": "15c4ca3f-7d86-4f1e-bb69-aefecbd56564",
   "metadata": {},
   "outputs": [
    {
     "name": "stdout",
     "output_type": "stream",
     "text": [
      "4\n",
      "5\n",
      "18\n",
      "20\n"
     ]
    }
   ],
   "source": [
    "# Write a Rectangle class in Python language, allowing you to build a rectangle with length and width attributes.\n",
    "\n",
    "# Create a Perimeter() method to calculate the perimeter of the rectangle and a Area() method to calculate the area of ​​the rectangle.\n",
    "\n",
    "# Create a method display() that display the length, width, perimeter and area of an object created using an instantiation on rectangle class.\n",
    "\n",
    "class rectangle:\n",
    "\n",
    "    def __init__ (self, length, width):\n",
    "        self.length = length\n",
    "        self.width = width\n",
    "\n",
    "\n",
    "    def Perimeter(self):\n",
    "        self.Peri = (self.length + self.width)*2\n",
    "        return self.Peri\n",
    "\n",
    "\n",
    "    def Area(self):\n",
    "        self.Area = self.length*self.width\n",
    "        return self.Area\n",
    "\n",
    "\n",
    "    def display(self):\n",
    "        print(self.length)\n",
    "        print(self.width)\n",
    "        print(self.Perimeter())\n",
    "        print(self.Area())\n",
    "\n",
    "obj1 = rectangle(4,5)\n",
    "obj1.display()"
   ]
  },
  {
   "cell_type": "code",
   "execution_count": 19,
   "id": "ab39c94f-4ec4-4d6b-a17d-3a1beb721e43",
   "metadata": {},
   "outputs": [
    {
     "name": "stdout",
     "output_type": "stream",
     "text": [
      "1123\n",
      "navjot\n",
      "201\n",
      "10.05\n"
     ]
    }
   ],
   "source": [
    "# Bank Class\n",
    "# Create a Python class called BankAccount which represents a bank account, having as attributes: accountNumber (numeric type), name (name of the account owner as string type), balance.\n",
    "# Create a constructor with parameters: accountNumber, name, balance.\n",
    "# Create a Deposit() method which manages the deposit actions.\n",
    "# Create a Withdrawal() method which manages withdrawals actions.\n",
    "# Create an bankFees() method to apply the bank fees with a percentage of 5% of the balance account.\n",
    "# Create a display() method to display account details. Give the complete code for the BankAccount class.\n",
    "\n",
    "class BankAccount:\n",
    "\n",
    "    def __init__ (self, accountNumber, name, balance):\n",
    "        self.accountNumber = accountNumber\n",
    "        self.name = name\n",
    "        self.balance  = balance\n",
    "\n",
    "\n",
    "    def deposit(self):\n",
    "        self.deposit = int(input('enter amount : '))\n",
    "        self.deposit = self.balance + self.deposit\n",
    "        return self.deposit\n",
    "\n",
    "    def Withdrawal(self):\n",
    "        self.withdraw = int(input('enter withdrawel amount : '))\n",
    "        self.balance = self.balance - self.withdraw\n",
    "        return self.balance\n",
    "\n",
    "\n",
    "    def bankFees(self):\n",
    "        self.bankFees = 0.05*(self.balance)\n",
    "        return self.bankFees\n",
    "\n",
    "\n",
    "    def display(self):\n",
    "        print(self.accountNumber)\n",
    "        print(self.name)\n",
    "        print(self.balance)\n",
    "        print(self.bankFees())\n",
    "\n",
    "obj1 = BankAccount(1123, 'navjot', 201)\n",
    "obj1.display()\n",
    "\n",
    "\n",
    "    "
   ]
  },
  {
   "cell_type": "code",
   "execution_count": 119,
   "id": "6e4b492e-14f6-4ba8-904f-caa5345d4784",
   "metadata": {},
   "outputs": [
    {
     "name": "stdin",
     "output_type": "stream",
     "text": [
      "enter a num N :  6\n"
     ]
    },
    {
     "name": "stdout",
     "output_type": "stream",
     "text": [
      "720\n",
      "21\n",
      "Not a Prime\n",
      "[6, 12, 18, 24, 30, 36, 42, 48, 54, 60]\n"
     ]
    }
   ],
   "source": [
    "# Computation class\n",
    "# Create a Computation class with a default constructor (without parameters) allowing to perform various calculations on integers numbers.\n",
    "\n",
    "# Create a method called Factorial() which allows to calculate the factorial of an integer n. Integer n as parameter for this method\n",
    "\n",
    "# Create a method called naturalSum() allowing to calculate the sum of the first n integers 1 + 2 + 3 + .. + n. Integer n as parameter for this method.\n",
    "\n",
    "# Create a method called testPrime() in the Calculation class to test the primality of a given integer n, n is Prime or Not? Integer n as parameter for this method.\n",
    "\n",
    "# Create a tableMult() method which creates and displays the multiplication table of a given integer. \n",
    "\n",
    "\n",
    "class computation:\n",
    "\n",
    "    def __init__ (self):\n",
    "        self.n = n\n",
    "\n",
    "    def Factorial(self):\n",
    "        \n",
    "        fact = 1\n",
    "        for i in range(2, self.n+1):\n",
    "            fact = fact*i\n",
    "        return fact\n",
    "\n",
    "    def naturalSum(self):\n",
    "\n",
    "        sum = 0\n",
    "        for i in range(1,self.n+1):\n",
    "            sum +=i\n",
    "        return sum\n",
    "\n",
    "\n",
    "    def testPrime(self):\n",
    "\n",
    "        if self.n <= 1:\n",
    "            return \"Not a Prime\"  # 0 and 1 are not prime numbers\n",
    "        for i in range(2, int(self.n ** 0.5) + 1):  # Check divisors up to √n\n",
    "            if self.n % i == 0:\n",
    "                return \"Not a Prime\"\n",
    "        return \"Yes, a Prime\"  # Prime if no divisors are found\n",
    "\n",
    "\n",
    "    def tableMult(self):\n",
    "\n",
    "        mult = []\n",
    "        for i in range(1, 11):\n",
    "            mult.append(self.n * i)\n",
    "        return mult\n",
    "\n",
    "\n",
    "        \n",
    "            \n",
    "\n",
    "n = int(input('enter a num N : '))\n",
    "\n",
    "obj1 = computation()\n",
    "print(obj1.Factorial())\n",
    "print(obj1.naturalSum())\n",
    "print(obj1.testPrime())\n",
    "print(obj1.tableMult())\n"
   ]
  },
  {
   "cell_type": "code",
   "execution_count": 2,
   "id": "bd919c8b-2b43-4d3f-957b-68626988781d",
   "metadata": {},
   "outputs": [
    {
     "name": "stdout",
     "output_type": "stream",
     "text": [
      "Welcome to the fruit quiz\n",
      "What is the color of guava\n"
     ]
    },
    {
     "name": "stdin",
     "output_type": "stream",
     "text": [
      " red\n"
     ]
    },
    {
     "name": "stdout",
     "output_type": "stream",
     "text": [
      "Galat jawab\n"
     ]
    },
    {
     "name": "stdin",
     "output_type": "stream",
     "text": [
      "enter 0 to play again 1 to exit 1\n"
     ]
    }
   ],
   "source": [
    "# Build flashcard using class in Python.\n",
    "# Build a flashcard using class in python. A flashcard is a card having information on both sides, which can be used as an aid in memoization. \n",
    "# Flashcards usually have a question on one side and an answer on the other.\n",
    "\n",
    "# Example 1:\n",
    "\n",
    "# Approach:\n",
    "\n",
    "# Create a class named FlashCard.\n",
    "# Initialize dictionary fruits using init() method. Here you have to define fruit name as key and it's color as value. E.g., {\"Banana\": \"yellow\", \"Strawberries\": \"pink\"}\n",
    "# Now randomly choose a pair from fruits by using random module and store the key in variable fruit and value in variable color.\n",
    "# Now prompt the user to answer the color of the randomly chosen fruit.\n",
    "# If correct print correct else print wrong.\n",
    "# Output:\n",
    "\n",
    "# welcome to fruit quiz\n",
    "# What is the color of Strawberries\n",
    "# pink\n",
    "# Correct answer\n",
    "# Enter 0, if you want to play again: 0\n",
    "# What is the color of watermelon\n",
    "# green\n",
    "# Correct answer\n",
    "# Enter 0, if you want to play again: 1\n",
    "\n",
    "\n",
    "import random \n",
    "\n",
    "class FlashCard:\n",
    "\n",
    "    def __init__(self):\n",
    "        self.__fruits = {\n",
    "            'apple':'red',\n",
    "            'banana':'yellow',\n",
    "            'watermelon':'green',\n",
    "            'strawberry':'pink',\n",
    "            'guava':'green'\n",
    "        }\n",
    "\n",
    "    def quiz(self):\n",
    "\n",
    "        while True:\n",
    "\n",
    "            fruit,color = random.choices(list(self.__fruits.items()))[0]\n",
    "\n",
    "            print('What is the color of {}'.format(fruit))\n",
    "            user_answer = input()\n",
    "\n",
    "            if user_answer.lower() == color:\n",
    "                print('Sahi jawab')\n",
    "            else:\n",
    "                print('Galat jawab')\n",
    "\n",
    "            option = int(input('enter 0 to play again 1 to exit'))\n",
    "\n",
    "            if option:\n",
    "                break\n",
    "\n",
    "print('Welcome to the fruit quiz')\n",
    "fc = FlashCard()\n",
    "fc.quiz()\n"
   ]
  }
 ],
 "metadata": {
  "kernelspec": {
   "display_name": "Python [conda env:base] *",
   "language": "python",
   "name": "conda-base-py"
  },
  "language_info": {
   "codemirror_mode": {
    "name": "ipython",
    "version": 3
   },
   "file_extension": ".py",
   "mimetype": "text/x-python",
   "name": "python",
   "nbconvert_exporter": "python",
   "pygments_lexer": "ipython3",
   "version": "3.11.7"
  }
 },
 "nbformat": 4,
 "nbformat_minor": 5
}
