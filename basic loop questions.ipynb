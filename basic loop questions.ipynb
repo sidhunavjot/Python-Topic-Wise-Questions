{
 "cells": [
  {
   "cell_type": "code",
   "execution_count": 2,
   "id": "2ede125e-7fb1-43a0-8091-bbaeb79166e2",
   "metadata": {},
   "outputs": [
    {
     "name": "stdin",
     "output_type": "stream",
     "text": [
      "enter salary :  5000000\n"
     ]
    },
    {
     "name": "stdout",
     "output_type": "stream",
     "text": [
      "2600000.0\n",
      "total in hand salary received is 2600000.0\n"
     ]
    }
   ],
   "source": [
    "# Write a program that will give you in hand monthly salary after deduction on CTC - HRA(10%), DA(5%), PF(3%) and taxes deduction as below:\n",
    "\n",
    "# Salary(Lakhs) : Tax(%)\n",
    "\n",
    "# Below 5 : 0%\n",
    "# 5-10 : 10%\n",
    "# 10-20 : 20%\n",
    "# aboove 20 : 30%\n",
    "\n",
    "sal = float(input(\"enter salary : \"))\n",
    "\n",
    "HRA = sal*0.1\n",
    "DA = sal*0.05\n",
    "PF = sal*0.03\n",
    "\n",
    "if sal<500000:\n",
    "    tax = 0\n",
    "elif 500000<sal<1000000:\n",
    "    tax = sal*0.10\n",
    "elif 1000000 < sal < 2000000:\n",
    "    tax = sal*0.20\n",
    "elif 2000000<sal:\n",
    "    tax = sal*0.30\n",
    "\n",
    "in_hand = sal - (tax+HRA+DA+PF)\n",
    "\n",
    "print(in_hand)\n",
    "print(\"total in hand salary received is {}\".format(in_hand))\n"
   ]
  },
  {
   "cell_type": "code",
   "execution_count": 8,
   "id": "ef0db443-8542-4dce-87a2-f444c515e3dc",
   "metadata": {},
   "outputs": [
    {
     "name": "stdin",
     "output_type": "stream",
     "text": [
      "enter side :  4\n",
      "enter side :  4\n",
      "enter side :  4\n"
     ]
    },
    {
     "name": "stdout",
     "output_type": "stream",
     "text": [
      "It's a triangle\n"
     ]
    }
   ],
   "source": [
    "# Write a program that take a user input of three angles and will find out whether it can form a triangle or not.\n",
    "\n",
    "s1 = int(input(\"enter side : \"))\n",
    "s2 = int(input(\"enter side : \"))\n",
    "s3 = int(input(\"enter side : \"))\n",
    "\n",
    "if s1 + s2 > s3 and s2 + s3 > s1 and s3 + s1 > s2:\n",
    "    print(\"It's a triangle\")\n",
    "else:\n",
    "    print(\"Not a triangle\")\n",
    "\n"
   ]
  },
  {
   "cell_type": "code",
   "execution_count": 12,
   "id": "bfa0f281-cd8a-42f2-87d6-fd1336baa1d7",
   "metadata": {},
   "outputs": [
    {
     "name": "stdin",
     "output_type": "stream",
     "text": [
      "tell the cost price:  200\n",
      "tell the selling price:  300\n"
     ]
    },
    {
     "name": "stdout",
     "output_type": "stream",
     "text": [
      "its a profit\n"
     ]
    }
   ],
   "source": [
    "# Write a program that will take user input of cost price and selling price and determines whether its a loss or a profit.\n",
    "\n",
    "cp = int(input(\"tell the cost price: \"))\n",
    "sp= int(input(\"tell the selling price: \"))\n",
    "\n",
    "if sp-cp > 0:\n",
    "    print(\"its a profit\")\n",
    "\n",
    "else:\n",
    "    print(\"its a loss\")\n"
   ]
  },
  {
   "cell_type": "code",
   "execution_count": null,
   "id": "2ee4cb79-0dfc-46ea-8cf3-86c13573c86e",
   "metadata": {},
   "outputs": [],
   "source": [
    "# Display Fibonacci series up to 10 terms.\n",
    "# 0 , 1\n",
    "# n1+ n2 = n3, n2+n3, n3,n4\n",
    "n1 = 0\n",
    "n2 = 1\n",
    "\n",
    "# n3 = n1 + n2\n",
    "# n4 = n2 + n3\n",
    "# n5 = n3 + n4\n",
    "\n",
    "N = int(input(\"enter the num : \"))\n",
    "z = 0\n",
    "\n",
    "while z <= N:\n",
    "    print(z)\n",
    "    n1 = n2\n",
    "    n2 = z\n",
    "    z = n1 + n2\n",
    "\n",
    "    "
   ]
  },
  {
   "cell_type": "code",
   "execution_count": 4,
   "id": "454bf25a-8306-47d0-b236-0417fbbf7458",
   "metadata": {},
   "outputs": [
    {
     "name": "stdin",
     "output_type": "stream",
     "text": [
      "Enter the num :  5\n"
     ]
    },
    {
     "name": "stdout",
     "output_type": "stream",
     "text": [
      "24\n"
     ]
    }
   ],
   "source": [
    "# Find the factorial of a given number.\n",
    "\n",
    "# n! = n(n-1)(n-2)....(n-(n-1))\n",
    "# n! = n(n-j)(n-(j+1))(n-((j+1)+1))....(n-(j+))\n",
    "\n",
    "n = int(input(\"Enter the num : \"))\n",
    "n_fact = 1\n",
    "j = 1\n",
    "while j < n:\n",
    "    n_fact = n_fact*j\n",
    "    j += 1\n",
    "print(n_fact)\n",
    "    \n",
    "\n",
    "\n",
    "\n",
    "\n"
   ]
  },
  {
   "cell_type": "code",
   "execution_count": 6,
   "id": "b70b4164-af78-4110-8a05-9ec7c9e5da36",
   "metadata": {},
   "outputs": [
    {
     "name": "stdout",
     "output_type": "stream",
     "text": [
      "987654321"
     ]
    }
   ],
   "source": [
    "# Reverse a given integer number.\n",
    "\n",
    "num = 123456789\n",
    "num2 = 0\n",
    "\n",
    "\n",
    "while num > 0:\n",
    "    \n",
    "    val2 = num % 10\n",
    "    print(val2,end='')\n",
    "    num = num // 10\n",
    "   \n",
    "    \n"
   ]
  },
  {
   "cell_type": "code",
   "execution_count": 34,
   "id": "ea6daf09-1b76-41c3-bf36-8fdfd8e281a0",
   "metadata": {},
   "outputs": [
    {
     "name": "stdin",
     "output_type": "stream",
     "text": [
      "Enter the num :  3\n"
     ]
    },
    {
     "name": "stdout",
     "output_type": "stream",
     "text": [
      "6\n"
     ]
    }
   ],
   "source": [
    "# Take a user input as integer N. Find out the sum from 1 to N. \n",
    "# And if the sum is greater than 300, don't need to calculate the sum further more. \n",
    "# Print the final result. And don't use for loop to solve this problem.\n",
    "\n",
    "N = int(input(\"Enter the num : \"))\n",
    "\n",
    "sum = 0\n",
    "i = 0\n",
    "\n",
    "while sum < 300:\n",
    "    i+=1\n",
    "    sum += i\n",
    "    \n",
    "    if i==N:\n",
    "        break\n",
    "            \n",
    "  \n",
    "print(sum)"
   ]
  },
  {
   "cell_type": "code",
   "execution_count": 2,
   "id": "87a6e331-ca63-41b8-84f5-f0cdc260cfd9",
   "metadata": {},
   "outputs": [
    {
     "name": "stdin",
     "output_type": "stream",
     "text": [
      "enter the num :  4\n",
      "enter the num :  5\n",
      "enter the num :  3\n",
      "enter the num :  2\n",
      "enter the num :  8\n",
      "enter the num :  1\n",
      "enter the num :  2\n",
      "enter the num :  4\n",
      "enter the num :  6\n",
      "enter the num :  0\n"
     ]
    },
    {
     "name": "stdout",
     "output_type": "stream",
     "text": [
      "sum is :  35  And avg is :  3.888888888888889\n"
     ]
    }
   ],
   "source": [
    "# Write a program that keeps on accepting a number from the user until the user enters Zero. \n",
    "# Display the sum and average of all the numbers.\n",
    "\n",
    "\n",
    "sum = 0\n",
    "avg = 0\n",
    "ct_num = 0\n",
    "\n",
    "\n",
    "while True:\n",
    "    num = int(input(\"enter the num : \"))\n",
    "    if num == 0:\n",
    "        break\n",
    "    ct_num += 1\n",
    "    sum += num\n",
    "    \n",
    "if ct_num > 0:\n",
    "    \n",
    "    avg += (sum/ct_num)\n",
    "    \n",
    "    print(\"sum is : \",sum, \" And avg is : \", avg)\n",
    "\n",
    "else:\n",
    "    print(\"num not added\")\n",
    "    "
   ]
  },
  {
   "cell_type": "code",
   "execution_count": 4,
   "id": "fa0981cc-cb5a-4a38-b9fe-d2f09581d43d",
   "metadata": {},
   "outputs": [
    {
     "name": "stdout",
     "output_type": "stream",
     "text": [
      "2002,2009,2016,2023,2037,2044,2051,2058,2072,2079,2086,2093,2107,2114,2121,2128,2142,2149,2156,2163,2177,2184,2191,2198,2212,2219,2226,2233,2247,2254,2261,2268,2282,2289,2296,2303,2317,2324,2331,2338,2352,2359,2366,2373,2387,2394,2401,2408,2422,2429,2436,2443,2457,2464,2471,2478,2492,2499,2506,2513,2527,2534,2541,2548,2562,2569,2576,2583,2597,2604,2611,2618,2632,2639,2646,2653,2667,2674,2681,2688,2702,2709,2716,2723,2737,2744,2751,2758,2772,2779,2786,2793,2807,2814,2821,2828,2842,2849,2856,2863,2877,2884,2891,2898,2912,2919,2926,2933,2947,2954,2961,2968,2982,2989,2996,3003,3017,3024,3031,3038,3052,3059,3066,3073,3087,3094,3101,3108,3122,3129,3136,3143,3157,3164,3171,3178,3192,3199,"
     ]
    }
   ],
   "source": [
    "# Write a program which will find all such numbers which are divisible by 7 but are not a multiple of 5, \n",
    "# between 2000 and 3200 (both included). \n",
    "# The numbers obtained should be printed in a comma-separated sequence on a single line.\n",
    "\n",
    "for n in range(2000,3201):\n",
    "    if n % 7 == 0 and n % 5 !=0 :\n",
    "        print(n,end=',')\n",
    "\n",
    "    \n",
    "    "
   ]
  },
  {
   "cell_type": "code",
   "execution_count": null,
   "id": "69c6d8e6-615b-4ff1-85f3-a35d60c28029",
   "metadata": {},
   "outputs": [],
   "source": [
    "# Write a program, which will find all such numbers between 1000 and 3000 (both included)\n",
    "# such that each digit of the number is an even number. \n",
    "# The numbers obtained should be printed in a space-separated sequence on a single line.\n",
    "\n",
    "for n in range(1000, 3001):\n",
    "    \n",
    "    \n",
    "    while True:\n",
    "        if k >0:\n",
    "            m = n%10\n",
    "        k = n//10\n",
    "\n",
    "\n",
    "            \n",
    "    "
   ]
  },
  {
   "cell_type": "code",
   "execution_count": 10,
   "id": "b0a0cdab-c28c-4bf4-baca-c6047ad9b801",
   "metadata": {},
   "outputs": [
    {
     "name": "stdin",
     "output_type": "stream",
     "text": [
      "enter up val :  5\n",
      "enter up val :  3\n",
      "enter up val :  3\n",
      "enter up val :  2\n"
     ]
    },
    {
     "name": "stdout",
     "output_type": "stream",
     "text": [
      "distance is :  2\n"
     ]
    }
   ],
   "source": [
    "# A robot moves in a plane starting from the original point (0,0). \n",
    "# The robot can move toward UP, DOWN, LEFT and RIGHT with a given steps.\n",
    "\n",
    "# input > \n",
    "# UP 5\n",
    "# DOWN 3\n",
    "# LEFT 3\n",
    "# RIGHT 2\n",
    "# !\n",
    "\n",
    "# output >\n",
    "# 2\n",
    "\n",
    "import math\n",
    "\n",
    "up= 0\n",
    "down= 0\n",
    "left =0\n",
    "right =0\n",
    "\n",
    "sp = 0\n",
    "\n",
    "up_in = float(input(\"enter up val : \"))\n",
    "down_in = float(input(\"enter up val : \"))\n",
    "left_in = float(input(\"enter up val : \"))\n",
    "right_in = float(input(\"enter up val : \"))\n",
    "\n",
    "up = up + up_in\n",
    "down = down + down_in\n",
    "left = left + left_in\n",
    "right = right + right_in\n",
    "\n",
    "x_final = right-left\n",
    "y_final = up-down\n",
    "\n",
    "dist = int(math.sqrt(x_final**2 + y_final**2))\n",
    "print(\"distance is : \",dist)\n"
   ]
  },
  {
   "cell_type": "code",
   "execution_count": 24,
   "id": "23cfc4b6-4bb1-4f6e-b6d4-db4ecb831c42",
   "metadata": {},
   "outputs": [
    {
     "name": "stdin",
     "output_type": "stream",
     "text": [
      "Enter a number:  4\n"
     ]
    },
    {
     "name": "stdout",
     "output_type": "stream",
     "text": [
      "4 is not a prime number\n"
     ]
    }
   ],
   "source": [
    "# Write a program to print whether a given number is a prime number or not\n",
    "\n",
    "val = int(input(\"Enter a number: \"))\n",
    "\n",
    "if val <= 1:\n",
    "    print(val, \"is not a prime number\")\n",
    "else:\n",
    "    is_prime = True\n",
    "    for i in range(2, int(val ** 0.5) + 1):\n",
    "        if val % i == 0:\n",
    "            is_prime = False\n",
    "            break\n",
    "    if is_prime:\n",
    "        print(val, \"is a prime number\")\n",
    "    else:\n",
    "        print(val, \"is not a prime number\")"
   ]
  },
  {
   "cell_type": "code",
   "execution_count": null,
   "id": "95bab40f-7c01-4d92-a39e-97751fcf9952",
   "metadata": {},
   "outputs": [],
   "source": []
  }
 ],
 "metadata": {
  "kernelspec": {
   "display_name": "Python 3 (ipykernel)",
   "language": "python",
   "name": "python3"
  },
  "language_info": {
   "codemirror_mode": {
    "name": "ipython",
    "version": 3
   },
   "file_extension": ".py",
   "mimetype": "text/x-python",
   "name": "python",
   "nbconvert_exporter": "python",
   "pygments_lexer": "ipython3",
   "version": "3.11.7"
  }
 },
 "nbformat": 4,
 "nbformat_minor": 5
}
