{
 "cells": [
  {
   "cell_type": "code",
   "execution_count": 1,
   "id": "6778cd67-4bea-4cce-a2ea-a30d3550c76c",
   "metadata": {},
   "outputs": [
    {
     "name": "stdout",
     "output_type": "stream",
     "text": [
      "[1, 2, 3, 4, 5]\n"
     ]
    }
   ],
   "source": [
    "# Write a Python function that takes a list and returns a new list with unique elements of the first list.\n",
    "\n",
    "# Exercise 1:\n",
    "\n",
    "# Input:\n",
    "\n",
    "# [1,2,3,3,3,3,4,5]\n",
    "# Output:\n",
    "\n",
    "# [1, 2, 3, 4, 5]\n",
    "\n",
    "L =  [1,2,3,3,3,3,4,5]\n",
    "\n",
    "def func(L):\n",
    "    L = list(set(L))\n",
    "    return L\n",
    "\n",
    "z = func(L)\n",
    "print(z)"
   ]
  },
  {
   "cell_type": "code",
   "execution_count": 7,
   "id": "2131555f-6d10-4491-9ebf-3b12bcd4bc32",
   "metadata": {},
   "outputs": [
    {
     "name": "stdout",
     "output_type": "stream",
     "text": [
      "black-green-red-white-yellow\n"
     ]
    }
   ],
   "source": [
    "# Write a Python function that \n",
    "# accepts a hyphen-separated sequence of words as parameter and \n",
    "# returns the words in a hyphen-separated sequence after sorting them alphabetically.\n",
    "\n",
    "# Example 1:\n",
    "\n",
    "# Input:\n",
    "\n",
    "# green-red-yellow-black-white\n",
    "# Output:\n",
    "\n",
    "# black-green-red-white-yellow\n",
    "\n",
    "S = \"green-red-yellow-black-white\"\n",
    "\n",
    "def func(S):\n",
    "    S = S.split('-')\n",
    "    S = sorted(S)\n",
    "    return '-'.join(S)\n",
    "\n",
    "z = func(S)\n",
    "print(z)"
   ]
  },
  {
   "cell_type": "code",
   "execution_count": 13,
   "id": "14f05a5c-652b-47bc-8433-c8a3cef07089",
   "metadata": {},
   "outputs": [
    {
     "name": "stdout",
     "output_type": "stream",
     "text": [
      "(47, 9)\n"
     ]
    }
   ],
   "source": [
    "# Write a Python function that accepts a string and calculate the number of upper case letters and lower case letters.\n",
    "\n",
    "# Sample String : 'CampusX is an Online Mentorship Program fOr EnginEering studentS.'\n",
    "# Expected Output :\n",
    "# No. of Upper case characters :  9\n",
    "# No. of Lower case Characters :  47\n",
    "\n",
    "S = 'CampusX is an Online Mentorship Program fOr EnginEering studentS'\n",
    "\n",
    "\n",
    "\n",
    "def func(S):\n",
    "    Low = 0\n",
    "    Upp = 0\n",
    "    for i in S:\n",
    "        if i.islower():\n",
    "            Low+=1\n",
    "        elif i.isupper():\n",
    "            Upp+=1\n",
    "    return Low, Upp\n",
    "\n",
    "z = func(S)\n",
    "print(z)\n",
    "    "
   ]
  },
  {
   "cell_type": "code",
   "execution_count": 15,
   "id": "231aa410-735a-4838-bca7-140bdbb7085d",
   "metadata": {},
   "outputs": [
    {
     "name": "stdout",
     "output_type": "stream",
     "text": [
      "[2, 4, 6, 8]\n"
     ]
    }
   ],
   "source": [
    "# Write a Python program to print the even numbers from a given list.\n",
    "# Sample List : [1, 2, 3, 4, 5, 6, 7, 8, 9]\n",
    "# Expected Result : [2, 4, 6, 8]\n",
    "\n",
    "L =  [1, 2, 3, 4, 5, 6, 7, 8, 9]\n",
    "\n",
    "def func(L):\n",
    "    N =[]\n",
    "    for i in L:\n",
    "        if i%2 == 0:\n",
    "            N.append(i)\n",
    "    return N\n",
    "\n",
    "print(func(L))"
   ]
  },
  {
   "cell_type": "code",
   "execution_count": 29,
   "id": "169e5a78-df51-4a00-b761-d34b6c428290",
   "metadata": {},
   "outputs": [
    {
     "name": "stdout",
     "output_type": "stream",
     "text": [
      "Its a perfect number\n"
     ]
    }
   ],
   "source": [
    "# Write a Python function to check whether a number is perfect or not.\n",
    "# A Perfect number is a number that is half the sum of all of its positive divisors (including itself).\n",
    "\n",
    "# Example :\n",
    "\n",
    "#  The first perfect number is 6, because 1, 2, and 3 are its proper positive divisors, and 1 + 2 + 3 = 6. \n",
    "# Equivalently, the number 6 is equal to half the sum of all its positive divisors: ( 1 + 2 + 3 + 6 ) / 2 = 6. \n",
    "\n",
    "# The next perfect number is 28 = 1 + 2 + 4 + 7 + 14. This is followed by the perfect numbers 496 and 8128.\n",
    "\n",
    "\n",
    "num = 28\n",
    "\n",
    "def func(num):\n",
    "    d = 0\n",
    "    for i in range(1,(num + 1)):\n",
    "        if num % i == 0:\n",
    "            d = d + i\n",
    "    if d/2 == num:\n",
    "        return True\n",
    "\n",
    "if func(num) is True:\n",
    "    print('Its a perfect number')\n",
    "else:\n",
    "    print('Its NOT a perfect number')"
   ]
  },
  {
   "cell_type": "code",
   "execution_count": 35,
   "id": "146be894-1f18-40c6-9ceb-713a2f055e53",
   "metadata": {},
   "outputs": [
    {
     "name": "stdout",
     "output_type": "stream",
     "text": [
      "{1: 10, 2: 20, 3: 30, 4: 40, 5: 50, 6: 60}\n"
     ]
    }
   ],
   "source": [
    "# Write a Python function to concatenate any no of dictionaries to create a new one.\n",
    "# Sample Dictionary :\n",
    "# dic1={1:10, 2:20}\n",
    "# dic2={3:30, 4:40}\n",
    "# dic3={5:50,6:60}\n",
    "# Expected Result : {1: 10, 2: 20, 3: 30, 4: 40, 5: 50, 6: 60}\n",
    "\n",
    "dic1={1:10, 2:20}\n",
    "dic2={3:30, 4:40}\n",
    "dic3={5:50,6:60}\n",
    "dic ={}\n",
    "\n",
    "def func(dic1, dic2, dic3):\n",
    "    dic = dic1 | dic2 | dic3\n",
    "    return dic\n",
    "print(func(dic1, dic2, dic3))"
   ]
  },
  {
   "cell_type": "code",
   "execution_count": 57,
   "id": "aed56379-a02e-4355-bcb8-a1214ab9c4f8",
   "metadata": {},
   "outputs": [
    {
     "name": "stdout",
     "output_type": "stream",
     "text": [
      "{'hello': 1, 'how': 1, 'are': 1, 'you': 2, 'i': 1, 'am': 1, 'fine': 1, 'thank': 1}\n",
      "None\n"
     ]
    }
   ],
   "source": [
    "# Write a python function that accepts a string as input and returns the word with most occurence.\n",
    "\n",
    "# Input:\n",
    "# hello how are you i am fine thank you\n",
    "# Output\n",
    "# you -> 2\n",
    "\n",
    "s = 'hello how are you i am fine thank you'\n",
    "\n",
    "def func (s):\n",
    "    j = {}\n",
    "  \n",
    "    for i in s.split():\n",
    "        \n",
    "        if i in j:\n",
    "            j[i] += 1\n",
    "        else:\n",
    "            j[i] = 1\n",
    "    print(j)\n",
    "\n",
    "print(func (s))\n",
    "    \n",
    "\n",
    "    "
   ]
  },
  {
   "cell_type": "code",
   "execution_count": 89,
   "id": "4989b0ef-7e58-45da-ae9f-bdcf22d11eda",
   "metadata": {},
   "outputs": [
    {
     "name": "stdout",
     "output_type": "stream",
     "text": [
      "{'11-20': 2, '21-30': 1, '31-40': 2, '41-50': 3}\n"
     ]
    }
   ],
   "source": [
    "# Write a python function that receives a list of integers and prints out a histogram of bin size 10\n",
    "\n",
    "# Input:\n",
    "# [13,42,15,37,22,39,41,50]\n",
    "# Output:\n",
    "# {11-20:2,21-30:1,31-40:2,41-50:3}\n",
    "\n",
    "import math\n",
    "L = [13,42,15,37,22,39,41,50]\n",
    "\n",
    "def func(L):\n",
    "\n",
    "    # initialize\n",
    "    d = {}\n",
    "    li = []\n",
    "\n",
    "    # find min and max of list\n",
    "    j = min(L)\n",
    "    k = max(L)\n",
    "    \n",
    "    # find lowest and highest range of histogram\n",
    "    low_limit = math.floor(j/10)*10\n",
    "    high_limit = math.ceil(k/10)*10\n",
    "\n",
    "    # list created of 10 shifts for histogram\n",
    "    for i in range(low_limit,high_limit,10):\n",
    "        count = 0\n",
    "        for m in L:\n",
    "            if i+1 <= m <= i+10:\n",
    "                count+=1\n",
    "        d[str(i+1)+ '-' + str(i+10)] = count\n",
    "    \n",
    "                \n",
    "\n",
    "    \n",
    "    return d\n",
    "    \n",
    "print(func(L))"
   ]
  },
  {
   "cell_type": "code",
   "execution_count": 135,
   "id": "10cc4bd5-a506-4991-84e1-e05e0dec0206",
   "metadata": {},
   "outputs": [
    {
     "name": "stdout",
     "output_type": "stream",
     "text": [
      "(1, 1)\n"
     ]
    }
   ],
   "source": [
    "#  Write a python function that accepts a list of 2D co-ordinates and a query point, \n",
    "# and then finds the the co-ordinate which is closest in terms of distance from the query point.\n",
    "\n",
    "# List of Coordinates\n",
    "# [(1,1),(2,2),(3,3),(4,4)]\n",
    "\n",
    "# Query Point\n",
    "# (0,0)\n",
    "\n",
    "# Output\n",
    "# Nearest to (0,0) is (1,1)\n",
    "\n",
    "L = [(1,1),(2,2),(3,3),(4,4)]\n",
    "Q = (0,0)\n",
    "d = {}\n",
    "for i in L:\n",
    "    dist = ((i[0]-Q[0])**2 + (i[1]-Q[1])**2)**0.5\n",
    "    d[i] = dist \n",
    "    shortest = min(d.keys())\n",
    "print(shortest)\n",
    "\n",
    "        \n"
   ]
  },
  {
   "cell_type": "code",
   "execution_count": 153,
   "id": "af2b6b00-0a6f-4bde-af0a-22900f513d39",
   "metadata": {},
   "outputs": [
    {
     "name": "stdout",
     "output_type": "stream",
     "text": [
      "[93, 25, 22, 24]\n"
     ]
    }
   ],
   "source": [
    "# Write a Python program to add three given lists using Python map and lambda.\n",
    "\n",
    "l1 = [4,5,6,7]\n",
    "l2 = [0,0,3,5]\n",
    "l3 = [89,20,13,12]\n",
    "\n",
    "L = map(lambda x,y,z: x+y+z,l1,l2,l3 )\n",
    "print(list(L))\n"
   ]
  },
  {
   "cell_type": "code",
   "execution_count": 163,
   "id": "3a3ebf82-261a-4348-9bb9-a7d5abf77f5a",
   "metadata": {},
   "outputs": [
    {
     "name": "stdout",
     "output_type": "stream",
     "text": [
      "[1, 2, 9, 64, 625, 7776]\n"
     ]
    }
   ],
   "source": [
    "# Write a Python program to create a list containing the power of said number in bases raised to the corresponding number in the index using Python map.\n",
    "# Input:\n",
    "\n",
    "# list1 = [1,2,3,4,5,6]\n",
    "# Output:\n",
    "\n",
    "# [1,2,9,64,625,-]\n",
    "\n",
    "list1 = [1,2,3,4,5,6]\n",
    "\n",
    "l = map(lambda x,y : x**y, list1, range(len((list1))))\n",
    "\n",
    "print(list(l))"
   ]
  },
  {
   "cell_type": "code",
   "execution_count": null,
   "id": "cbff1d77-cc5d-4055-8195-d9b0c53da74d",
   "metadata": {},
   "outputs": [],
   "source": []
  }
 ],
 "metadata": {
  "kernelspec": {
   "display_name": "Python 3 (ipykernel)",
   "language": "python",
   "name": "python3"
  },
  "language_info": {
   "codemirror_mode": {
    "name": "ipython",
    "version": 3
   },
   "file_extension": ".py",
   "mimetype": "text/x-python",
   "name": "python",
   "nbconvert_exporter": "python",
   "pygments_lexer": "ipython3",
   "version": "3.11.7"
  }
 },
 "nbformat": 4,
 "nbformat_minor": 5
}
