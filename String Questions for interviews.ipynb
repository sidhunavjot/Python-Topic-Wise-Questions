{
 "cells": [
  {
   "cell_type": "code",
   "execution_count": 15,
   "id": "1194e606-e3b4-420d-a7b7-dea595452fea",
   "metadata": {},
   "outputs": [
    {
     "name": "stdout",
     "output_type": "stream",
     "text": [
      "{1: 'q', 2: 'w', 3: 'e', 4: 'r', 5: 't'}\n"
     ]
    }
   ],
   "source": [
    "# Conversion of two list into Dictionary Using Python\n",
    "\n",
    "a = [1,2,3,4,5]\n",
    "b = ['q','w','e','r','t']\n",
    "\n",
    "c = {}\n",
    "\n",
    "for i,j in zip(a, b):\n",
    "    c.update({i:j})\n",
    "print(c)\n",
    "    "
   ]
  },
  {
   "cell_type": "code",
   "execution_count": 49,
   "id": "bde0d783-3ef2-4a7c-8274-aab41e1dd299",
   "metadata": {},
   "outputs": [
    {
     "name": "stdout",
     "output_type": "stream",
     "text": [
      "Array A =  [1, 2, 4, 5, 6, 7]\n"
     ]
    }
   ],
   "source": [
    "# FIND MISSING NUMBER IN AN ARRAY IN PYTHON\n",
    "\n",
    "a = [1,2,4,5,6,7]\n",
    "b = []\n",
    "n = []\n",
    "\n",
    "def arr_b():\n",
    "    for m in a:\n",
    "        b.append(m)\n",
    "    return b\n",
    "\n",
    "print(\"Array A = \", arr_b())\n",
    "\n",
    "def arr_n():\n",
    "    for j in n:\n",
    "        n = n+1\n",
    "        \n",
    "    \n",
    "\n",
    "\n",
    "\n",
    "\n",
    "\n"
   ]
  },
  {
   "cell_type": "code",
   "execution_count": 10,
   "id": "751122ed-2726-4455-8fa9-7b63cb4ca6f1",
   "metadata": {
    "scrolled": true
   },
   "outputs": [
    {
     "name": "stdin",
     "output_type": "stream",
     "text": [
      "enter a  num:  4\n"
     ]
    },
    {
     "name": "stdout",
     "output_type": "stream",
     "text": [
      "*\n",
      "**\n",
      "***\n",
      "****\n"
     ]
    }
   ],
   "source": [
    "star = int(input(\"enter a  num: \"))\n",
    "for i in range(1,star+1):\n",
    "    for j in range(1,i+1):\n",
    "        print(\"*\", end=\"\")\n",
    "    print()\n",
    "    "
   ]
  },
  {
   "cell_type": "code",
   "execution_count": 70,
   "id": "769227e2-7878-4f8a-8333-9ac9e8fc8da2",
   "metadata": {},
   "outputs": [
    {
     "name": "stdin",
     "output_type": "stream",
     "text": [
      "enter num of row:  5\n"
     ]
    },
    {
     "name": "stdout",
     "output_type": "stream",
     "text": [
      "1\n",
      "121\n",
      "12321\n",
      "1234321\n",
      "123454321\n"
     ]
    }
   ],
   "source": [
    "\n",
    "\n",
    " # 1\n",
    " # 121\n",
    " # 12321\n",
    " # 1234321\n",
    "\n",
    "\n",
    "\n",
    "row = int(input(\"enter num of row: \"))\n",
    "\n",
    "for i in range(1,row+1):\n",
    "    for j in range(1,i+1):\n",
    "        print(j,end=\"\")\n",
    "    for k in range(i-1,0,-1):\n",
    "        print(k,end=\"\")\n",
    "        \n",
    "    print()\n",
    "    "
   ]
  },
  {
   "cell_type": "code",
   "execution_count": 84,
   "id": "43badf65-92b7-42ff-a491-a8e97cc374aa",
   "metadata": {},
   "outputs": [
    {
     "name": "stdin",
     "output_type": "stream",
     "text": [
      "enter the string : my name\n"
     ]
    },
    {
     "name": "stdout",
     "output_type": "stream",
     "text": [
      "7\n"
     ]
    }
   ],
   "source": [
    "# find the length of the string without using len() function\n",
    "\n",
    "s = input('enter the string :' )\n",
    "\n",
    "count = 0\n",
    "for i in s:\n",
    "    count = count + 1\n",
    "print(count)"
   ]
  },
  {
   "cell_type": "code",
   "execution_count": 98,
   "id": "2555d9cd-67d5-4ce8-b7ab-aa38ec91e7cd",
   "metadata": {},
   "outputs": [
    {
     "name": "stdin",
     "output_type": "stream",
     "text": [
      "Enter Email :  myemail@khb.com\n"
     ]
    },
    {
     "name": "stdout",
     "output_type": "stream",
     "text": [
      "myemail\n",
      "myemail\n"
     ]
    }
   ],
   "source": [
    "# extract username from a email\n",
    "\n",
    "email = input('Enter Email : ')\n",
    "\n",
    "user = ''\n",
    "for i in email:\n",
    "    if i == '@':\n",
    "        break\n",
    "    user = user + i\n",
    "    \n",
    "print(user)\n",
    "    \n",
    "\n",
    "# ----------------------------------------------------\n",
    "\n",
    "# simple funtion way\n",
    "\n",
    "pos = email.index('@')\n",
    "print(email[0:pos])"
   ]
  },
  {
   "cell_type": "code",
   "execution_count": 112,
   "id": "b4996305-6330-4359-88aa-8e4a97f18a11",
   "metadata": {},
   "outputs": [
    {
     "name": "stdout",
     "output_type": "stream",
     "text": [
      "2\n",
      "2\n"
     ]
    }
   ],
   "source": [
    "# count the frequency of perticular character in a provided string\n",
    "\n",
    "string = 'my name is navjot'\n",
    "freq = 'n'\n",
    "\n",
    "fr = string.count(freq)\n",
    "print(fr)\n",
    "\n",
    "#-----------------------------------------------------------\n",
    "\n",
    "fro = 0\n",
    "for i in string:\n",
    "    if i == freq:\n",
    "        fro = fro + 1\n",
    "print(fro)\n",
    "    "
   ]
  },
  {
   "cell_type": "code",
   "execution_count": 114,
   "id": "3df4f1ce-d808-4286-ade7-223e27bfb0d2",
   "metadata": {},
   "outputs": [
    {
     "name": "stdout",
     "output_type": "stream",
     "text": [
      "what is y nae\n"
     ]
    }
   ],
   "source": [
    "# write a programm which can remove a perticular character from a string\n",
    "\n",
    "string = 'what is my name'\n",
    "rem = 'm'\n",
    "new = ''\n",
    "for i in string:\n",
    "    if i  == rem:\n",
    "        pass\n",
    "    else :\n",
    "        new = new + i\n",
    "print (new)\n",
    "\n",
    "\n"
   ]
  },
  {
   "cell_type": "code",
   "execution_count": 138,
   "id": "7596bf41-0cb4-426e-bad4-ee2ed3d23861",
   "metadata": {},
   "outputs": [
    {
     "name": "stdout",
     "output_type": "stream",
     "text": [
      "palidrome :  level\n",
      "reversed string :  unnit\n",
      "NOT Palidrome :  unnit\n"
     ]
    }
   ],
   "source": [
    "# write a programe that can check weather a given string is palindrome or not.\n",
    "\n",
    "string = 'level'\n",
    "\n",
    "rev = string[::-1]\n",
    "\n",
    "if string == rev:\n",
    "    print(\"palidrome : \", string)\n",
    "else:\n",
    "    print(\"NOT Palidrome : \", string)\n",
    "\n",
    "\n",
    "# -------------\n",
    "\n",
    "# reversed\n",
    "\n",
    "st = 'tinnu'\n",
    "new = ''\n",
    "\n",
    "for i in st:\n",
    "    new = i + new\n",
    "print ('reversed string : ',new)\n",
    "\n",
    "# now compare\n",
    "\n",
    "if new == st:\n",
    "    print(\"palidrome : \", new)\n",
    "else:\n",
    "    print(\"NOT Palidrome : \", new)\n",
    "    \n",
    "    \n"
   ]
  },
  {
   "cell_type": "code",
   "execution_count": 215,
   "id": "f0c07b9b-065d-494f-b737-d33c8e584584",
   "metadata": {},
   "outputs": [
    {
     "name": "stdout",
     "output_type": "stream",
     "text": [
      "hello how can i help you ?\n",
      "6\n",
      "['hello', 'how', 'can', 'i', 'help', 'you']\n",
      "6\n"
     ]
    }
   ],
   "source": [
    "# write a progmramme to count number of words in a string without split()\n",
    "\n",
    "str = '   hello how can i help you ?     '\n",
    "chr = ' '\n",
    "cnt = 0\n",
    "\n",
    "str2 = str.strip()\n",
    "print(str2)\n",
    "\n",
    "\n",
    "\n",
    "for i in str2:\n",
    "    if i == chr:\n",
    "        cnt = cnt + 1\n",
    "print(cnt)\n",
    "\n",
    "\n",
    "#----------------------------------------------------------------------\n",
    "\n",
    "str3 = ''\n",
    "lst = []\n",
    "ct = 0\n",
    "\n",
    "for i in str2:\n",
    "    if i != chr:\n",
    "        str3 = str3 + i\n",
    "    else:\n",
    "        lst.append(str3)\n",
    "        str3 = ''\n",
    "\n",
    "print(lst) \n",
    "for k in lst:\n",
    "    ct += 1\n",
    "print(ct)\n",
    "        \n"
   ]
  },
  {
   "cell_type": "code",
   "execution_count": 229,
   "id": "ed86e8a4-94ea-4a2f-9cb4-01e01974aa48",
   "metadata": {},
   "outputs": [
    {
     "name": "stdout",
     "output_type": "stream",
     "text": [
      "['my', 'name', 'is', 'navjot']\n",
      "My Name Is Navjot "
     ]
    }
   ],
   "source": [
    "# write a python program to convert a string to title case without using title()\n",
    "\n",
    "str = 'my name is navjot sidhu'\n",
    "tn = ''\n",
    "lst = []\n",
    "\n",
    "for i in str:\n",
    "    if i != ' ':\n",
    "        tn += i\n",
    "    else:\n",
    "        lst.append(tn)\n",
    "        tn = ''\n",
    "print(lst)\n",
    "\n",
    "for j in lst:\n",
    "    print(j[0].upper() + j[1:].lower(), end = ' ')\n",
    "   \n",
    "\n",
    "    \n"
   ]
  },
  {
   "cell_type": "code",
   "execution_count": 247,
   "id": "3d6d0b9c-885c-48a0-8c0d-0b90bfd2d56b",
   "metadata": {},
   "outputs": [
    {
     "name": "stdout",
     "output_type": "stream",
     "text": [
      "['test', 'hi', 'toh', 'hai']\n",
      "hai toh hi test \n"
     ]
    }
   ],
   "source": [
    "# Reverse words in a given string\n",
    "\n",
    "str = 'test hi toh hai'\n",
    "lst = str.split()\n",
    "print(lst)\n",
    "relst = lst[::-1]\n",
    "str2 = ''\n",
    "for i in relst:\n",
    "    str2+= (i+ ' ')\n",
    "print(str2)\n",
    "\n",
    "\n",
    "\n",
    "\n",
    "    "
   ]
  },
  {
   "cell_type": "code",
   "execution_count": 279,
   "id": "9b3ef27e-7618-4035-9fca-0f07fcb387e5",
   "metadata": {},
   "outputs": [
    {
     "name": "stdout",
     "output_type": "stream",
     "text": [
      "['geekes', 'for', 'geek', 'is', 'geekiness,', 'so', 'why', 'to', 'be', 'a', 'geek', 'in', 'geek', 'world']\n",
      "['ge', 'fo', 'ge', 'is', 'ge', 'so', 'wh', 'to', 'be', 'a', 'ge', 'in', 'ge', 'wo']\n",
      "wo\n"
     ]
    }
   ],
   "source": [
    "# Longest Common Prefix\n",
    "\n",
    "str1 = 'geekes for geek is geekiness, so why to be a geek in geek world'\n",
    "str2 = 'hello world'\n",
    "\n",
    "tst = ''\n",
    "strA = str1.split()\n",
    "print(strA)\n",
    "\n",
    "# 1. bring out 1st 2 indexe and \n",
    "jd = []\n",
    "\n",
    "for i in strA:\n",
    "    \n",
    "    jd.append(i[0:2])\n",
    "print(jd)\n",
    "for j in jd:\n",
    "    if j == jd[1:]:\n",
    "        break\n",
    "print(j)\n",
    "\n",
    "\n",
    "\n",
    "\n",
    "# 2. compare with other prefexes\n",
    "# 3. if equals then save in a string\n",
    "# 4. jump to 3 incises, and compare with others\n",
    "# 5. if equals, then repeat,\n",
    "# 6. if 4rth indcis doesn't match.\n",
    "# 7. show the 3rd indice\n",
    "    "
   ]
  },
  {
   "cell_type": "code",
   "execution_count": 289,
   "id": "dee3ec78-1513-4fed-a312-4194db06480d",
   "metadata": {},
   "outputs": [
    {
     "name": "stdout",
     "output_type": "stream",
     "text": [
      "Data-Science-Mentorship-Program-By-CampusX\n"
     ]
    }
   ],
   "source": [
    "# Print thegiven strings as per stated format. \n",
    "\n",
    "# \"Data\" \"Science\" \"Mentorship\" \"Program\" \n",
    "# \"By\" \"CampusX\"\n",
    "\n",
    "# output: Data-Science-Mentorship-Program-started-By-CampusX\n",
    "\n",
    "str1 =  \"Data\" \n",
    "str2 = \"Science\" \n",
    "str3 = \"Mentorship\" \n",
    "str4 = \"Program\"  \n",
    "\n",
    "str5 = \"By\" \n",
    "str6 = \"CampusX\"\n",
    "\n",
    "\n",
    "print(str1, end = '-')\n",
    "print(str2, end = '-')\n",
    "print(str3, end = '-')\n",
    "print(str4, end = '-')\n",
    "print(str5, end = '-')\n",
    "print(str6)"
   ]
  },
  {
   "cell_type": "code",
   "execution_count": 291,
   "id": "ef6ba6cd-e3cc-45de-b870-83bad3fd7852",
   "metadata": {},
   "outputs": [
    {
     "name": "stdout",
     "output_type": "stream",
     "text": [
      "212.0\n"
     ]
    }
   ],
   "source": [
    "# Write a program that will convert celsius value to fahrenheit.\n",
    "C = 100\n",
    "F = ((9/5) *C) + 32\n",
    "print(F)"
   ]
  },
  {
   "cell_type": "code",
   "execution_count": 297,
   "id": "45cadde5-c717-467a-8878-a8bb8ad31bd2",
   "metadata": {},
   "outputs": [
    {
     "name": "stdin",
     "output_type": "stream",
     "text": [
      "enter 1st num :  2\n",
      "enter 2nd num :  3\n"
     ]
    },
    {
     "name": "stdout",
     "output_type": "stream",
     "text": [
      "swapped nms are :  3 2\n"
     ]
    }
   ],
   "source": [
    "# Take 2 numbers as input from the user.Write a program to swap the numbers without using any special python syntax.\n",
    "\n",
    "N1 = int(input('enter 1st num : '))\n",
    "N2 = int(input('enter 2nd num : '))\n",
    "\n",
    "\n",
    "n3 = N2\n",
    "n4 = N1\n",
    "\n",
    "N2 = n4\n",
    "N1 = n3\n",
    "\n",
    "print(\"swapped nms are : \",N1,N2)\n",
    "\n"
   ]
  },
  {
   "cell_type": "code",
   "execution_count": 299,
   "id": "b067debc-629d-4b45-83da-3bf8e9d598fa",
   "metadata": {},
   "outputs": [
    {
     "name": "stdin",
     "output_type": "stream",
     "text": [
      "enter N for natural num 5\n"
     ]
    },
    {
     "name": "stdout",
     "output_type": "stream",
     "text": [
      "55\n"
     ]
    }
   ],
   "source": [
    "# Write a program to find the sum of squares of first n natural numbers where n will be provided by the user.\n",
    "\n",
    "\n",
    "# 5 -> 1*2 + 2*2 + 3*2 + 4*2 + 5*2\n",
    "\n",
    "n = int(input(\"enter N for natural num\"))\n",
    "sum = 0\n",
    "for i in range(1,(n+1)):\n",
    "    sum +=i**2\n",
    "print(sum)\n"
   ]
  },
  {
   "cell_type": "code",
   "execution_count": 305,
   "id": "072e424a-df6d-4e17-b129-16b0b65b35d8",
   "metadata": {},
   "outputs": [
    {
     "name": "stdin",
     "output_type": "stream",
     "text": [
      "enter 1st num of series 5\n",
      "enter 2nd num of series 10\n",
      "enter Nth num of series 5\n"
     ]
    },
    {
     "name": "stdout",
     "output_type": "stream",
     "text": [
      "25\n"
     ]
    }
   ],
   "source": [
    "# Given the first 2 terms of an Arithmetic Series.Find the Nth term of the series. Assume all inputs are provided by the user.\n",
    "\n",
    "# 2,4...............n ??\n",
    "# 5,10.....n?\n",
    "\n",
    "n1 = int(input(\"enter 1st num of series\"))\n",
    "n2 = int(input(\"enter 2nd num of series\"))\n",
    "\n",
    "N  = int(input(\"enter Nth num of series\"))\n",
    "N_val = 0\n",
    "\n",
    "diff = n2-n1\n",
    "for i in range(1, (N+1)):\n",
    "   # N_val += N_val + diff\n",
    "    N_val = n1 + (N - 1) * diff\n",
    "\n",
    "print(N_val)\n",
    "    \n",
    "    "
   ]
  },
  {
   "cell_type": "code",
   "execution_count": 309,
   "id": "23b6ffe7-050f-4488-9bff-1ae8497ae11c",
   "metadata": {},
   "outputs": [
    {
     "name": "stdin",
     "output_type": "stream",
     "text": [
      "enter numerator one :  5\n",
      "enter denominator two :  2\n",
      "enter numerator one :  5\n",
      "enter denominator two :  7\n"
     ]
    },
    {
     "name": "stdout",
     "output_type": "stream",
     "text": [
      "3.2142857142857144\n"
     ]
    }
   ],
   "source": [
    "# Given 2 fractions, find the sum of those 2 fractions.Take the numerator and denominator values of the fractions from the user.\n",
    "\n",
    "num1 = float(input(\"enter numerator one : \"))\n",
    "den1 = float(input(\"enter denominator two : \"))\n",
    "\n",
    "frac1 = num1/den1\n",
    "\n",
    "num2 = float(input(\"enter numerator one : \"))\n",
    "den2 = float(input(\"enter denominator two : \"))\n",
    "\n",
    "frac2 = num2/den2\n",
    "\n",
    "sum = frac1 + frac2\n",
    "\n",
    "print(sum)\n",
    "\n"
   ]
  },
  {
   "cell_type": "code",
   "execution_count": null,
   "id": "162fff74-9e03-4e35-9a47-648b6962269a",
   "metadata": {},
   "outputs": [],
   "source": []
  }
 ],
 "metadata": {
  "kernelspec": {
   "display_name": "Python 3 (ipykernel)",
   "language": "python",
   "name": "python3"
  },
  "language_info": {
   "codemirror_mode": {
    "name": "ipython",
    "version": 3
   },
   "file_extension": ".py",
   "mimetype": "text/x-python",
   "name": "python",
   "nbconvert_exporter": "python",
   "pygments_lexer": "ipython3",
   "version": "3.11.7"
  }
 },
 "nbformat": 4,
 "nbformat_minor": 5
}
