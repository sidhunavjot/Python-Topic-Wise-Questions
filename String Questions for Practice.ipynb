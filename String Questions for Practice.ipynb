{
 "cells": [
  {
   "cell_type": "code",
   "execution_count": 43,
   "id": "c971379c-0bb9-4e50-a95e-32cee0ca0db3",
   "metadata": {},
   "outputs": [
    {
     "name": "stdout",
     "output_type": "stream",
     "text": [
      "5 4 3 2 1 \n",
      "4 3 2 1 \n",
      "3 2 1 \n",
      "2 1 \n",
      "1 \n"
     ]
    }
   ],
   "source": [
    "# Print the following pattern. Write a program to use for loop to print the following reverse number pattern.\n",
    "\n",
    "# 5 4 3 2 1 \n",
    "# 4 3 2 1 \n",
    "# 3 2 1 \n",
    "# 2 1 \n",
    "# 1\n",
    "\n",
    "for i in range(5,0,-1):\n",
    "    print(i, end = ' ')\n",
    "    for  j in range(i-1,0,-1):\n",
    "        print( j, end = ' ')\n",
    "    print('')\n",
    "        "
   ]
  },
  {
   "cell_type": "code",
   "execution_count": 73,
   "id": "584dafac-dbcd-4849-bdf4-8550a7eba569",
   "metadata": {},
   "outputs": [
    {
     "name": "stdout",
     "output_type": "stream",
     "text": [
      "* \n",
      "* * \n",
      "* * * \n",
      "* * * * \n",
      "* * * * * \n",
      "* * * * \n",
      "* * * \n",
      "* * \n",
      "* \n"
     ]
    }
   ],
   "source": [
    "# Print the following pattern.\n",
    "\n",
    "# * \n",
    "# * * \n",
    "# * * * \n",
    "# * * * * \n",
    "# * * * * * \n",
    "# * * * * \n",
    "# * * * \n",
    "# * * \n",
    "# *\n",
    "\n",
    "# Upper half of the pattern\n",
    "for i in range(1, 6):\n",
    "    print('* ' * i)\n",
    "\n",
    "# Lower half of the pattern\n",
    "for i in range(4, 0, -1):\n",
    "    print('* ' * i)"
   ]
  },
  {
   "cell_type": "code",
   "execution_count": 81,
   "id": "be8faaa9-1f6e-44cc-be91-c92f1f0e1611",
   "metadata": {},
   "outputs": [
    {
     "name": "stdout",
     "output_type": "stream",
     "text": [
      "   * \n",
      "   *  * \n",
      "   *  *  * \n",
      "   *  *  *  * \n",
      "   *  *  *  *  * \n"
     ]
    }
   ],
   "source": [
    "# Write a program to pring the following pattern\n",
    "\n",
    "#     *\n",
    "#   * * *\n",
    "# * * * * *\n",
    "\n"
   ]
  },
  {
   "cell_type": "code",
   "execution_count": 101,
   "id": "bbf44380-64af-4761-bab4-2ab6dbc2c5d3",
   "metadata": {},
   "outputs": [
    {
     "name": "stdout",
     "output_type": "stream",
     "text": [
      "1 \n",
      "2 1 \n",
      "3 2 1 \n",
      "4 3 2 1 \n",
      "5 4 3 2 1 \n"
     ]
    }
   ],
   "source": [
    "# Write a program to print the following pattern\n",
    "\n",
    "# 1\n",
    "\n",
    "# 2 1\n",
    "\n",
    "# 3 2 1\n",
    "\n",
    "# 4 3 2 1\n",
    "\n",
    "# 5 4 3 2 1\n",
    "\n",
    "\n",
    "\n",
    "for i in range(1, 6):\n",
    "    for j in range(i, 0, -1):  # Start from i, go down to 1\n",
    "        print(j, end=' ')\n",
    "    print()  # Move to the next line after each row"
   ]
  },
  {
   "cell_type": "code",
   "execution_count": 10,
   "id": "fffb04ef-fae8-41cd-81cd-f19faf9c6781",
   "metadata": {},
   "outputs": [
    {
     "name": "stdin",
     "output_type": "stream",
     "text": [
      "eNTER THE NUMBER :  5\n"
     ]
    },
    {
     "name": "stdout",
     "output_type": "stream",
     "text": [
      "24690\n"
     ]
    }
   ],
   "source": [
    "# Write a program to calculate the sum of series up to n term. \n",
    "# For example, if n =5 the series will become 2 + 22 + 222 + 2222 + 22222 = 24690. \n",
    "# Take the user input and then calculate. And the output style should match which is given in the example.\n",
    "\n",
    "val = int(input(\"eNTER THE NUMBER : \"))\n",
    "\n",
    "sum = 0\n",
    "\n",
    "for i in range(1, val+1):\n",
    "    num = eval('2'*i)\n",
    "    sum += num\n",
    "print (sum)\n",
    "\n"
   ]
  },
  {
   "cell_type": "code",
   "execution_count": 12,
   "id": "30a254a6-3254-41e6-86d7-9a7af727d047",
   "metadata": {},
   "outputs": [
    {
     "name": "stdout",
     "output_type": "stream",
     "text": [
      "1 2 3 4\n",
      "1 2 4 3\n",
      "1 3 2 4\n",
      "1 3 4 2\n",
      "1 4 2 3\n",
      "1 4 3 2\n",
      "2 1 3 4\n",
      "2 1 4 3\n",
      "2 3 1 4\n",
      "2 3 4 1\n",
      "2 4 1 3\n",
      "2 4 3 1\n",
      "3 1 2 4\n",
      "3 1 4 2\n",
      "3 2 1 4\n",
      "3 2 4 1\n",
      "3 4 1 2\n",
      "3 4 2 1\n",
      "4 1 2 3\n",
      "4 1 3 2\n",
      "4 2 1 3\n",
      "4 2 3 1\n",
      "4 3 1 2\n",
      "4 3 2 1\n"
     ]
    }
   ],
   "source": [
    "# Write a program to print all the unique combinations of 1,2,3 and 4\n",
    "\n",
    "\n",
    "\n",
    "\n",
    "for i in range(1,5):\n",
    "    for j in range(1,5):\n",
    "        for k in range(1,5):\n",
    "            for m in range(1,5):\n",
    "                if (i!=j and i!=k and i!=m and j!=k and j!=m and k!=m ):\n",
    "                    print(i,j,k,m)\n",
    "                "
   ]
  },
  {
   "cell_type": "code",
   "execution_count": 2,
   "id": "ffa8766e-9f6c-4477-b3dd-9e84c05d2cd1",
   "metadata": {},
   "outputs": [
    {
     "name": "stdin",
     "output_type": "stream",
     "text": [
      "Enter the num:  345\n"
     ]
    },
    {
     "name": "stdout",
     "output_type": "stream",
     "text": [
      "Binary equivalent: 101011001\n"
     ]
    }
   ],
   "source": [
    "# Write a program that will take a decimal number as input and prints out the binary equivalent of the number\n",
    "\n",
    "num = int(input(\"Enter the num: \"))\n",
    "\n",
    "# Initialize an empty string to store the binary equivalent\n",
    "binary = \"\"\n",
    "\n",
    "while num > 0:\n",
    "    # Get the remainder (0 or 1)\n",
    "    x = num % 2\n",
    "    # Prepend the remainder to the binary string\n",
    "    binary = str(x) + binary\n",
    "    # Update the number by performing integer division by 2\n",
    "    num = num // 2\n",
    "\n",
    "print(f\"Binary equivalent: {binary}\")"
   ]
  },
  {
   "cell_type": "code",
   "execution_count": 4,
   "id": "1ad70532-6046-43c4-95c8-697bed51a29d",
   "metadata": {},
   "outputs": [
    {
     "name": "stdin",
     "output_type": "stream",
     "text": [
      "Enter the num a :  10\n",
      "Enter the num b :  15\n"
     ]
    },
    {
     "name": "stdout",
     "output_type": "stream",
     "text": [
      "30\n",
      "5.0\n"
     ]
    }
   ],
   "source": [
    "# Write a program that will take 2 numbers as input and prints the LCM and HCF of those 2 numbers\n",
    "\n",
    "a = int(input(\"Enter the num a : \"))\n",
    "b = int(input(\"Enter the num b : \"))\n",
    "\n",
    "maxNum = max(a,b)\n",
    "#LCM \n",
    "\n",
    "while(True):\n",
    "    if (maxNum%a==0 and maxNum%b==0):\n",
    "        break\n",
    "    maxNum +=1\n",
    "\n",
    "print(maxNum)\n",
    "\n",
    "# HCM\n",
    "\n",
    "HCF = (a*b)/maxNum\n",
    "print(HCF)\n",
    "\n",
    "\n",
    "\n"
   ]
  },
  {
   "cell_type": "code",
   "execution_count": 38,
   "id": "39f146c7-dd60-4f74-b6c4-3ed46f1af80d",
   "metadata": {},
   "outputs": [
    {
     "name": "stdout",
     "output_type": "stream",
     "text": [
      "['DATA', 'SCIENCE', 'MENTORSHIP', 'PROGRAM']\n",
      "DSMP\n"
     ]
    }
   ],
   "source": [
    "# Create Short Form from initial character\n",
    "# input : Data science mentorship program\n",
    "# output : DSMP\n",
    "\n",
    "in1 = 'Data science mentorship program'\n",
    "\n",
    "out1 = ''\n",
    "\n",
    "L1 = in1.upper().split()\n",
    "print(L1)\n",
    "\n",
    "out = out1.join(word[0] for word in L1 )\n",
    "print(out)"
   ]
  },
  {
   "cell_type": "code",
   "execution_count": 64,
   "id": "7a64a91e-4438-46f6-b05d-4092b935c781",
   "metadata": {},
   "outputs": [
    {
     "name": "stdout",
     "output_type": "stream",
     "text": [
      "['campusx', 'data']\n",
      "camdatapusx\n"
     ]
    }
   ],
   "source": [
    "# Append second string in the middle of first string\n",
    "\n",
    "# input : campusx data\n",
    "# output : camdatapusx\n",
    "\n",
    "a = 'campusx data'\n",
    "b = ''\n",
    "\n",
    "# Split the input string into two parts\n",
    "x = a.split()\n",
    "print(x)  # ['campusx', 'data']\n",
    "\n",
    "# Extract the first part (word1) and second part (word2)\n",
    "word1 = x[0]  # 'campusx'\n",
    "word2 = x[1]  # 'data'\n",
    "\n",
    "# Find the middle index of the first word\n",
    "middle_index = len(word1) // 2\n",
    "\n",
    "# Append the second word into the middle of the first word\n",
    "result = word1[:middle_index] + word2 + word1[middle_index:]\n",
    "print(result)  # Output: 'camdatapusx'"
   ]
  },
  {
   "cell_type": "code",
   "execution_count": 8,
   "id": "54192565-e127-48ee-8a25-beb4c2c3a16e",
   "metadata": {},
   "outputs": [
    {
     "name": "stdout",
     "output_type": "stream",
     "text": [
      "yaivePNT\n"
     ]
    }
   ],
   "source": [
    "# Given string contains a combination of the lower and upper case letters. \n",
    "# Write a program to arrange the characters of a string so that all lowercase letters should come first.\n",
    "\n",
    "# given : str1 = PyNaTive\n",
    "# expected : yaivePNT\n",
    "\n",
    "str1 = 'PyNaTive'\n",
    "str2 = ''\n",
    "\n",
    "strLow = [char for char in str1 if char.islower()]\n",
    "strUp  = [char for char in str1 if char.isupper()]\n",
    "\n",
    "final = str2.join(strLow + strUp)\n",
    "print(final)"
   ]
  },
  {
   "cell_type": "code",
   "execution_count": 52,
   "id": "16e4323e-0ce8-4c6b-9d26-7bfa9ffdd68b",
   "metadata": {},
   "outputs": [
    {
     "name": "stdout",
     "output_type": "stream",
     "text": [
      "List of digits: [1, 2, 3, 4, 0, 9, 3]\n",
      "22\n",
      "3.142857142857143\n"
     ]
    }
   ],
   "source": [
    "# Take a alphanumeric string input and print the sum and average of the digits that appear in the string, ignoring all other characters.\n",
    "# input : hel123O4every093\n",
    "# output : Sum: 22 , Avg: 2.75\n",
    "\n",
    "str1 = 'hel123O4every093'\n",
    "str2 = ''\n",
    "total = 0\n",
    "\n",
    "# Extract digits from the string and convert them to integers\n",
    "val = [int(char) for char in str1 if char.isdigit()]\n",
    "print(\"List of digits:\", val)\n",
    "\n",
    "# Calculate the sum of the digits\n",
    "for i in val:\n",
    "    total += i\n",
    "print(total)\n",
    "\n",
    "avg = total/len(val)\n",
    "print(avg)"
   ]
  },
  {
   "cell_type": "code",
   "execution_count": 62,
   "id": "1ef3c716-8b0a-49f0-bb43-6ce5a399540f",
   "metadata": {},
   "outputs": [
    {
     "name": "stdout",
     "output_type": "stream",
     "text": [
      "['25', '10']\n",
      "2510\n"
     ]
    }
   ],
   "source": [
    "# Removal of all characters from a string except integers\n",
    "# input : str1 = 'I am 25 years and 10 months old'\n",
    "# 2510\n",
    "\n",
    "str1 = 'I am 25 years and 10 months old'\n",
    "str2= ''\n",
    "\n",
    "Ls = str1.split()\n",
    "Ls2 = [char for char in Ls if char.isdigit()]\n",
    "print(Ls2)\n",
    "fnl = ''\n",
    "for i in Ls2:\n",
    "    fnl +=i\n",
    "print(int(fnl))\n",
    "    "
   ]
  },
  {
   "cell_type": "code",
   "execution_count": 88,
   "id": "bc8a5520-bfcb-478f-a0a5-92a25db6f99b",
   "metadata": {},
   "outputs": [
    {
     "name": "stdout",
     "output_type": "stream",
     "text": [
      "6\n",
      "3\n",
      "The entered string is symmetrical\n"
     ]
    }
   ],
   "source": [
    "# Check whether the string is Symmetrical.\n",
    "# Given a string. the task is to check if the string is symmetrical or not. \n",
    "# A string is said to be symmetrical if both the halves of the string are the same.\n",
    "# input : khokho\n",
    "# out : The entered string is symmetrical\n",
    "\n",
    "str = 'khokho'\n",
    "md = len(str)\n",
    "print(md)\n",
    "midIndx = int(md/2)\n",
    "print(midIndx)\n",
    "\n",
    "if str[:(midIndx)]==str[midIndx:]:\n",
    "    print(\"The entered string is symmetrical\")\n",
    "else:\n",
    "    print(\"Not symmetrical\")\n",
    "        \n",
    "\n"
   ]
  },
  {
   "cell_type": "code",
   "execution_count": 98,
   "id": "090d8abf-3bfc-499f-8445-521024278771",
   "metadata": {},
   "outputs": [
    {
     "name": "stdout",
     "output_type": "stream",
     "text": [
      "['geeks', 'quiz', 'practice', 'code']\n",
      "['code', 'practice', 'quiz', 'geeks']\n",
      "geeks quiz practice code "
     ]
    }
   ],
   "source": [
    "# Reverse words in a given String\n",
    "# We are given a string and we need to reverse words of a given string.\n",
    "# input : geeks quiz practice code\n",
    "# output : code practice quiz geeks\n",
    "\n",
    "str1 = 'geeks quiz practice code'\n",
    "str2 = ''\n",
    "\n",
    "str2 = str1.split()\n",
    "print(str2)\n",
    "print(str2[-1::-1])\n",
    "for i in str2:\n",
    "    print(i,end=' ')\n",
    "\n"
   ]
  },
  {
   "cell_type": "code",
   "execution_count": 112,
   "id": "3c4413c0-b67c-46b1-a6d4-fa3a5f847cf8",
   "metadata": {},
   "outputs": [
    {
     "name": "stdout",
     "output_type": "stream",
     "text": [
      "['apple', 'fruits']\n"
     ]
    }
   ],
   "source": [
    "# Find uncommon words from two Strings.\n",
    "# A = \"apple banana mango\" \n",
    "# B = \"banana fruits mango\"\n",
    "# output: ['apple', 'fruits']\n",
    "\n",
    "A = \"apple banana mango\" \n",
    "B = \"banana fruits mango\"\n",
    "\n",
    "As = A.split()\n",
    "Bs = B.split()\n",
    "\n",
    "com = []\n",
    "\n",
    "com = [wrd for wrd in As if wrd not in Bs ] + [wrd for wrd in Bs if wrd not in As]\n",
    "print(com)\n",
    "            \n",
    "    "
   ]
  },
  {
   "cell_type": "code",
   "execution_count": 124,
   "id": "90f9274b-020e-45c7-a18b-6c3501228251",
   "metadata": {},
   "outputs": [
    {
     "name": "stdout",
     "output_type": "stream",
     "text": [
      "7\n"
     ]
    }
   ],
   "source": [
    "# Word location in String.\n",
    "# Find a location of a word in a given sentence.\n",
    "# Sentence: We can learn data science through campusx mentorship program.\n",
    "# word: campusx\n",
    "# Location of the word is 7.\n",
    "\n",
    "Sentence = 'We can learn data science through campusx mentorship program.'\n",
    "new = Sentence.split()\n",
    "pos = 1\n",
    "for i in new:\n",
    "    if i != 'campusx':\n",
    "        pos +=1\n",
    "    else:\n",
    "        break\n",
    "    \n",
    "print(pos)"
   ]
  },
  {
   "cell_type": "code",
   "execution_count": 142,
   "id": "c81200c0-9da5-4237-9be4-c2b73b1852f2",
   "metadata": {},
   "outputs": [
    {
     "name": "stdout",
     "output_type": "stream",
     "text": [
      "['why', 'is', 'is', 'it', 'not', 'so', 'so', 'so', 'so', 'working', 'for', 'us', 'us', 'us', 'us']\n",
      "['why', 'is', 'it', 'not', 'so', 'working', 'for', 'us']\n"
     ]
    }
   ],
   "source": [
    "# Write a program that can remove all the duplicate characters from a string. User will provide the input.\n",
    "\n",
    "st = 'why is is it not so so so so working for us us us us'\n",
    "st3 = st.split()\n",
    "print(st3)\n",
    "st2 = []\n",
    "\n",
    "\n",
    "\n",
    "for i in st3:\n",
    "    if i not in st2:\n",
    "        st2.append(i)\n",
    "\n",
    "print(st2)"
   ]
  },
  {
   "cell_type": "code",
   "execution_count": null,
   "id": "5686f845-d8ee-494e-acd6-f93081dfb03a",
   "metadata": {},
   "outputs": [],
   "source": []
  }
 ],
 "metadata": {
  "kernelspec": {
   "display_name": "Python 3 (ipykernel)",
   "language": "python",
   "name": "python3"
  },
  "language_info": {
   "codemirror_mode": {
    "name": "ipython",
    "version": 3
   },
   "file_extension": ".py",
   "mimetype": "text/x-python",
   "name": "python",
   "nbconvert_exporter": "python",
   "pygments_lexer": "ipython3",
   "version": "3.11.7"
  }
 },
 "nbformat": 4,
 "nbformat_minor": 5
}
