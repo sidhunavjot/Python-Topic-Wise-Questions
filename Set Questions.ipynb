{
 "cells": [
  {
   "cell_type": "code",
   "execution_count": 13,
   "id": "1a402b59-e4cb-4489-8aec-0c923d20be39",
   "metadata": {},
   "outputs": [
    {
     "name": "stdout",
     "output_type": "stream",
     "text": [
      "[80, 20]\n"
     ]
    }
   ],
   "source": [
    "# Write a program to find set of common elements in three lists using sets.\n",
    "\n",
    "# Input : ar1 = [1, 5, 10, 20, 40, 80]\n",
    "        # ar2 = [6, 7, 20, 80, 100]\n",
    "        # ar3 = [3, 4, 15, 20, 30, 70, 80, 120]\n",
    "\n",
    "# Output : [80, 20]\n",
    "\n",
    "ar1 = [1, 5, 10, 20, 40, 80]\n",
    "ar2 = [6, 7, 20, 80, 100]\n",
    "ar3 = [3, 4, 15, 20, 30, 70, 80, 120]\n",
    "\n",
    "s1 = set(ar1)\n",
    "s2 = set(ar2)\n",
    "s3 = set(ar3)\n",
    "\n",
    "c1 = s1 & s2 & s3\n",
    "\n",
    "print(list(c1))"
   ]
  },
  {
   "cell_type": "code",
   "execution_count": 25,
   "id": "1f45af66-b7c9-474e-9fc4-fb626b05db95",
   "metadata": {},
   "outputs": [
    {
     "name": "stdout",
     "output_type": "stream",
     "text": [
      "['a', 'o', 'a', 'a', 'i', 'e', 'e', 'e', 'o', 'i', 'o', 'i', 'i', 'e', 'a', 'e', 'a', 'a', 'o', 'a', 'e', 'e', 'e', 'o', 'o', 'a', 'u'] ['A']\n",
      "{'a', 'u', 'o', 'i', 'e'} {'A'}\n",
      "6\n"
     ]
    }
   ],
   "source": [
    "# Write a program to count unique number of vowels using sets in a given string. \n",
    "# Lowercase and upercase vowels will be taken as different.\n",
    "\n",
    "# Input:\n",
    "# Str1 = \"hands-on data science mentorship progrAm with live classes at affordable fee only on CampusX\"\n",
    "\n",
    "# Output:\n",
    "# No of unique vowels-6\n",
    "\n",
    "Str1 = \"hands-on data science mentorship progrAm with live classes at affordable fee only on CampusX\"\n",
    "\n",
    "vowels_s = ['a','e','i','o','u']\n",
    "vowels_C = ['A','E','I','O','U']\n",
    "\n",
    "s = []\n",
    "C = []\n",
    "for i in Str1:\n",
    "    if i in vowels_s:\n",
    "        s.append(i)\n",
    "    elif i in vowels_C:\n",
    "        C.append(i)\n",
    "\n",
    "print(s,C)\n",
    "\n",
    "s = set(s)\n",
    "C = set(C)\n",
    "print(s,C)\n",
    "\n",
    "count = len(s) + len(C)\n",
    "print(count)\n"
   ]
  },
  {
   "cell_type": "code",
   "execution_count": 41,
   "id": "61d192a6-54e0-4761-a14e-e6038ec47874",
   "metadata": {},
   "outputs": [
    {
     "name": "stdout",
     "output_type": "stream",
     "text": [
      "Not a binary\n"
     ]
    }
   ],
   "source": [
    "# Write a program to Check if a given string is binary string of or not.\n",
    "\n",
    "# A string is said to be binary if it's consists of only two unique characters.\n",
    "\n",
    "# Take string input from user.\n",
    "\n",
    "# Input: str = \"01010101010\"\n",
    "# Output: Yes\n",
    "\n",
    "# Input: str = \"1222211\"\n",
    "# Output: Yes\n",
    "\n",
    "# Input: str = \"Campusx\"\n",
    "# Output: No\n",
    "\n",
    "str = \"Campusx\"\n",
    "\n",
    "\n",
    "strSET = set(str)\n",
    "length= len(strSET)\n",
    "\n",
    "if length >2:\n",
    "    print(\"Not a binary\")\n",
    "else:\n",
    "    print(\"Yess a binary\")\n",
    "        \n",
    "    "
   ]
  },
  {
   "cell_type": "code",
   "execution_count": 55,
   "id": "7911d298-63da-4d10-826c-d7acc831f762",
   "metadata": {},
   "outputs": [
    {
     "name": "stdout",
     "output_type": "stream",
     "text": [
      "[1, 2, 3, 4, 5, 6, 7, 9]\n"
     ]
    }
   ],
   "source": [
    "# find union of n arrays.\n",
    "# Input:\n",
    "\n",
    "# [[1, 2, 2, 4, 3, 6],\n",
    "#  [5, 1, 3, 4],\n",
    "#  [9, 5, 7, 1],\n",
    "#  [2, 4, 1, 3]]\n",
    "\n",
    "# Output:\n",
    "# [1, 2, 3, 4, 5, 6, 7, 9]\n",
    "\n",
    "A = [[1, 2, 2, 4, 3, 6],\n",
    " [5, 1, 3, 4],\n",
    " [9, 5, 7, 1],\n",
    " [2, 4, 1, 3]]\n",
    "\n",
    "B = []\n",
    "\n",
    "for i in A:\n",
    "    for j in i:\n",
    "        B.append(j)\n",
    "        \n",
    "print(list(set(B)))\n",
    "\n",
    "\n",
    "    "
   ]
  },
  {
   "cell_type": "code",
   "execution_count": null,
   "id": "274f38c2-d48f-4eb3-8f7d-45abfe44ffaf",
   "metadata": {},
   "outputs": [],
   "source": [
    "# Intersection of two lists. \n",
    "# Intersection of two list means we need to take all those elements which are common to both of the initial lists and store them into another list. \n",
    "# Only use using list-comprehension.\n",
    "\n",
    "# Input:\n",
    "\n",
    "# lst1 = {15, 9, 10, 56, 23, 78, 5, 4, 9}\n",
    "# lst2 = {9, 4, 5, 36, 47, 26, 10, 45, 87}\n",
    "# Output:\n",
    "\n",
    "# [9, 10, 4, 5]\n",
    "# Example 2:\n",
    "\n",
    "# Input:\n",
    "\n",
    "# lst1 = {4, 9, 1, 17, 11, 26, 28, 54, 69}\n",
    "# lst2 = {9, 9, 74, 21, 45, 11, 63, 28, 26}\n",
    "# Output:\n",
    "\n",
    "# [9, 11, 26, 28]\n",
    "\n",
    "lst1 = {15, 9, 10, 56, 23, 78, 5, 4, 9}\n",
    "lst2 = {9, 4, 5, 36, 47, 26, 10, 45, 87}\n",
    "\n",
    "k = [i for i in lst1 if i in lst2] \n",
    "print(k)"
   ]
  }
 ],
 "metadata": {
  "kernelspec": {
   "display_name": "Python 3 (ipykernel)",
   "language": "python",
   "name": "python3"
  },
  "language_info": {
   "codemirror_mode": {
    "name": "ipython",
    "version": 3
   },
   "file_extension": ".py",
   "mimetype": "text/x-python",
   "name": "python",
   "nbconvert_exporter": "python",
   "pygments_lexer": "ipython3",
   "version": "3.11.7"
  }
 },
 "nbformat": 4,
 "nbformat_minor": 5
}
