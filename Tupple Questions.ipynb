{
 "cells": [
  {
   "cell_type": "code",
   "execution_count": 11,
   "id": "6730afcb-d6c6-421e-bac8-af5c402913fa",
   "metadata": {},
   "outputs": [
    {
     "name": "stdout",
     "output_type": "stream",
     "text": [
      "Output: [(5, 6, 7, 8), (6, 10), (7, 13)]\n"
     ]
    }
   ],
   "source": [
    "# Join Tuples if similar initial element\n",
    "\n",
    "# While working with Python tuples, we can have a problem in which we need to perform concatenation of records from the similarity of initial element. \n",
    "# This problem can have applications in data domains such as Data Science.\n",
    "\n",
    "# Input  : test_list = [(5, 6), (5, 7), (5, 8), (6, 10), (7, 13)] \n",
    "# Output : [(5, 6, 7, 8), (6, 10), (7, 13)] \n",
    "\n",
    "# Input list of tuples\n",
    "test_list = [(5, 6), (5, 7), (5, 8), (6, 10), (7, 13)]\n",
    "\n",
    "# Initialize a dictionary to group by the first element\n",
    "grouped = {}\n",
    "\n",
    "# Group tuples by their first element\n",
    "for tup in test_list:\n",
    "    if tup[0] not in grouped:\n",
    "        grouped[tup[0]] = list(tup)  # Start with the tuple converted to a list\n",
    "    else:\n",
    "        grouped[tup[0]].extend(tup[1:])  # Extend with the rest of the tuple\n",
    "\n",
    "# Convert the grouped dictionary values back to tuples\n",
    "result = [tuple(values) for values in grouped.values()]\n",
    "\n",
    "print(\"Output:\", result)\n",
    "\n"
   ]
  },
  {
   "cell_type": "code",
   "execution_count": 48,
   "id": "289b446f-61cc-4842-b0cb-6ec370320b46",
   "metadata": {},
   "outputs": [
    {
     "name": "stdout",
     "output_type": "stream",
     "text": [
      "{5, 6, 7}\n",
      "[(5, 6, 7, 8), (6, 10), (7, 13)]\n"
     ]
    }
   ],
   "source": [
    "test_list = [(5, 6), (5, 7), (5, 8), (6, 10), (7, 13)]\n",
    "\n",
    "a = []\n",
    "\n",
    "for i in test_list:\n",
    "    a.append(i[0])\n",
    "a = set(a)\n",
    "print(a)\n",
    "\n",
    "b = []\n",
    "for j in a:\n",
    "    temp = [j]\n",
    "    for k in test_list:\n",
    "        if k[0] == j:\n",
    "            temp.append(k[1])\n",
    "    b.append(temp) \n",
    "\n",
    "print(list(map(tuple,b)))"
   ]
  },
  {
   "cell_type": "code",
   "execution_count": 60,
   "id": "cad51b29-115c-4d0c-8983-b5a49f555baa",
   "metadata": {},
   "outputs": [
    {
     "name": "stdout",
     "output_type": "stream",
     "text": [
      "[5]\n",
      "[5, 40, 91, 136]\n",
      "[5, 40, 91, 136, 80]\n"
     ]
    }
   ],
   "source": [
    "# Multiply Adjacent elements (both side) and take sum of right and lest side multiplication result.\n",
    "\n",
    "# The original tuple : (1, 5, 7, 8, 10)\n",
    "# Resultant tuple after multiplication : \n",
    "\n",
    "# (1*5, 1*5+5*7, 7*5 + 7*8, 8*7 + 8*10, 10*8) -> (5, 40, 91, 136, 80)\n",
    "\n",
    "# output-(5, 40, 91, 136, 80)\n",
    "\n",
    "a = (1, 5, 7, 8, 10)\n",
    "\n",
    "b = []\n",
    "b.append(a[0]*a[1])\n",
    "print(b)\n",
    "for i in range(1,len(a)-1):\n",
    "    b.append(a[i]*a[i-1] + a[i]*a[i+1])\n",
    "    \n",
    "print(b)\n",
    "\n",
    "b.append(a[-1]*a[-2])\n",
    "print(b)\n",
    "\n",
    "\n",
    "\n",
    "\n",
    "    "
   ]
  },
  {
   "cell_type": "code",
   "execution_count": 80,
   "id": "12f393f6-c79e-4d9b-a325-e4128fa8dd9a",
   "metadata": {},
   "outputs": [
    {
     "name": "stdout",
     "output_type": "stream",
     "text": [
      "Tuples are not the same\n",
      "NOT same\n"
     ]
    }
   ],
   "source": [
    "# Check is tuples are same or not?\n",
    "\n",
    "# Two tuples would be same if both tuples have same element at same index\n",
    "\n",
    "# t1 = (1,2,3,0)\n",
    "# t2 = (0,1,2,3)\n",
    "\n",
    "# t1 and t2 are not same\n",
    "\n",
    "\n",
    "t1 = (1,2,3,0)\n",
    "t2 = (3,8,3,0)\n",
    "\n",
    "if t1 == t2:\n",
    "    print(\"Tuples are the same\")\n",
    "else:\n",
    "    print(\"Tuples are not the same\")\n",
    "\n",
    "# -------------------------------------------\n",
    "\n",
    "t1 = (1,2,3,0)\n",
    "t2 = (3,8,3,0)\n",
    "\n",
    "flag = True\n",
    "for i,j in zip(t1,t2):\n",
    "    if i == j:\n",
    "        continue\n",
    "    else:\n",
    "        \n",
    "        flag = False\n",
    "        break\n",
    "if flag:\n",
    "    print('same same')\n",
    "else:\n",
    "    print('NOT same')\n"
   ]
  },
  {
   "cell_type": "code",
   "execution_count": 84,
   "id": "7a487a1d-a825-4a1b-a94e-8a64d9f3ec7e",
   "metadata": {},
   "outputs": [
    {
     "name": "stdout",
     "output_type": "stream",
     "text": [
      "[2, 2, 1]\n"
     ]
    }
   ],
   "source": [
    "# Count no of tuples, list and set from a list\n",
    "# list1 = [{'hi', 'bye'},{'Geeks', 'forGeeks'},('a', 'b'),['hi', 'bye'],['a', 'b']]\n",
    "# Output:\n",
    "\n",
    "# List-2\n",
    "# Set-2\n",
    "# Tuples-1\n",
    "\n",
    "list1 = [{'hi', 'bye'},{'Geeks', 'forGeeks'},('a', 'b'),['hi', 'bye'],['a', 'b']]\n",
    "out = [0,0,0]\n",
    "\n",
    "\n",
    "for i in list1:\n",
    "    if type(i) == list:\n",
    "        out[0] +=1\n",
    "    elif type(i) == set:\n",
    "        out[1] +=1\n",
    "    elif type(i) == tuple:\n",
    "        out[2] +=1\n",
    "print(out)\n",
    "    "
   ]
  },
  {
   "cell_type": "code",
   "execution_count": null,
   "id": "3d0892aa-075d-4508-9b1a-563541fcefd6",
   "metadata": {},
   "outputs": [],
   "source": [
    "# Shortlist Students for a Job role\n",
    "\n",
    "# Ask user to input students record and store in tuples for each record. \n",
    "# Then Ask user to input three things he wants in the candidate- Primary Skill, Higher Education, Year of Graduation.\n",
    "\n",
    "# Show every students record in form of tuples if matches all required criteria.\n",
    "\n",
    "# It is assumed that there will be only one primry skill.\n",
    "\n",
    "# If no such candidate found, print No such candidate\n",
    "\n",
    "# Input:\n",
    "\n",
    "# Enter No of records- 2\n",
    "# Enter Details of student-1\n",
    "# Enter Student name- Manohar\n",
    "# Enter Higher Education- B.Tech\n",
    "# Enter Primary Skill- Python\n",
    "# Enter Year of Graduation- 2022\n",
    "# Enter Details of student-2\n",
    "# Enter Student name- Ponian\n",
    "# Enter Higher Education- B.Sc.\n",
    "# Enter Primary Skill- C++\n",
    "# Enter Year of Graduation- 2020\n",
    "\n",
    "# Enter Job Role Requirement\n",
    "# Enter Skill- Python\n",
    "# Enter Higher Education- B.Tech\n",
    "# Enter Year of Graduation- 2022\n",
    "# Output\n",
    "\n",
    "# ('Manohar', 'B.tech', 'Python', '2022')\n",
    "\n"
   ]
  }
 ],
 "metadata": {
  "kernelspec": {
   "display_name": "Python 3 (ipykernel)",
   "language": "python",
   "name": "python3"
  },
  "language_info": {
   "codemirror_mode": {
    "name": "ipython",
    "version": 3
   },
   "file_extension": ".py",
   "mimetype": "text/x-python",
   "name": "python",
   "nbconvert_exporter": "python",
   "pygments_lexer": "ipython3",
   "version": "3.11.7"
  }
 },
 "nbformat": 4,
 "nbformat_minor": 5
}
