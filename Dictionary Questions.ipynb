{
 "cells": [
  {
   "cell_type": "code",
   "execution_count": 39,
   "id": "fff87d56-4116-4190-9821-c0e14bbe609d",
   "metadata": {},
   "outputs": [
    {
     "name": "stdout",
     "output_type": "stream",
     "text": [
      "CampusX\n"
     ]
    }
   ],
   "source": [
    "# Key with maximum unique values\n",
    "# Given a dictionary with values list, extract key whose value has most unique values.\n",
    "\n",
    "# Example 1:\n",
    "\n",
    "# Input:\n",
    "\n",
    "# test_dict = {\"CampusX\" : [5, 7, 9, 4, 0], \"is\" : [6, 7, 4, 3, 3], \"Best\" : [9, 9, 6, 5, 5]}\n",
    "\n",
    "# Output:\n",
    "# CampusX\n",
    "\n",
    "test_dict = {\"CampusX\" : [5, 7, 9, 4, 0], \"is\" : [6, 7, 4, 3, 3], \"Best\" : [9, 9, 6, 5, 5]}\n",
    "j = 0\n",
    "key= ''\n",
    "for i in test_dict:\n",
    "    if j < len(set(test_dict[i])):\n",
    "        j = len(set(test_dict[i]))\n",
    "        key = i\n",
    "print(key)\n",
    "\n",
    "    \n",
    "    \n"
   ]
  },
  {
   "cell_type": "code",
   "execution_count": 69,
   "id": "b7cd7a6a-3bd3-4722-b12f-0c0599f1f734",
   "metadata": {},
   "outputs": [
    {
     "name": "stdout",
     "output_type": "stream",
     "text": [
      "['CampusX', 'is the best channel', 'for', 'Data-Science', 'students.']\n"
     ]
    }
   ],
   "source": [
    "# Replace words from Dictionary. Given String, replace it’s words from lookup dictionary.\n",
    "\n",
    "# Example 1:\n",
    "\n",
    "# Input:\n",
    "\n",
    "# test_str = 'CampusX best for DS students.'\n",
    "# repl_dict = {\"best\" : \"is the best channel\", \"DS\" : \"Data-Science\"}\n",
    "# Output:\n",
    "\n",
    "# CampusX is the best channel for Data-Science students.\n",
    "# Example 2:\n",
    "\n",
    "# Input:\n",
    "\n",
    "# test_str = 'CampusX best for DS students.'\n",
    "# repl_dict = {\"good\" : \"is the best channel\", \"ds\" : \"Data-Science\"}\n",
    "# Output:\n",
    "\n",
    "# CampusX best for DS students.\n",
    "\n",
    "test_str = 'CampusX best for DS students.'\n",
    "repl_dict = {\"best\" : \"is the best channel\", \"DS\" : \"Data-Science\"}\n",
    "\n",
    "res = []\n",
    "\n",
    "for j in test_str.split():\n",
    "    if j in repl_dict:\n",
    "        res.append(repl_dict[j])\n",
    "    else:\n",
    "        res.append(j)\n",
    "print(res)"
   ]
  },
  {
   "cell_type": "code",
   "execution_count": 75,
   "id": "446fb1f0-a8a8-4a31-8a4f-a95129515149",
   "metadata": {},
   "outputs": [
    {
     "name": "stdout",
     "output_type": "stream",
     "text": [
      "[[{'name': 'DataScience', 'id': 3}], [{'name': 'is', 'id': 8}]]\n"
     ]
    }
   ],
   "source": [
    "# Convert List to List of dictionaries. \n",
    "# Given list values and keys list, convert these values to key value pairs in form of list of dictionaries.\n",
    "\n",
    "# Example 1:\n",
    "\n",
    "# Input:\n",
    "\n",
    "# test_list = [\"DataScience\", 3, \"is\", 8]\n",
    "# key_list = [\"name\", \"id\"]\n",
    "# Output:\n",
    "\n",
    "# [{'name': 'DataScience', 'id': 3}, {'name': 'is', 'id': 8}]\n",
    "# Example 2:\n",
    "\n",
    "# Input:\n",
    "\n",
    "# test_list = [\"CampusX\", 10]\n",
    "# key_list = [\"name\", \"id\"]\n",
    "# Output:\n",
    "\n",
    "# [{'name': 'CampusX', 'id': 10}]\n",
    "\n",
    "test_list = [\"DataScience\", 3, \"is\", 8]\n",
    "key_list = [\"name\", \"id\"]\n",
    "\n",
    "result= []\n",
    "\n",
    "for i in range(0,len(test_list),2):\n",
    "    result.append([{key_list[0] : test_list[i], key_list[1] : test_list[i+1]}])\n",
    "print(result)\n",
    "\n"
   ]
  },
  {
   "cell_type": "code",
   "execution_count": 95,
   "id": "ff4b96d7-a5cb-4b79-8d79-2ddb155bcede",
   "metadata": {},
   "outputs": [
    {
     "name": "stdout",
     "output_type": "stream",
     "text": [
      "{'akash': [10], 'gaurav': [12], 'anand': [14], 'suraj': [20], 'akhil': [25], 'ashish': [30]}\n"
     ]
    }
   ],
   "source": [
    "# Convert a list of Tuples into Dictionary.\n",
    "# Input:\n",
    "\n",
    "# [(\"akash\", 10), (\"gaurav\", 12), (\"anand\", 14), (\"suraj\", 20), (\"akhil\", 25), (\"ashish\", 30)]\n",
    "# Output:\n",
    "\n",
    "# {'akash': [10], 'gaurav': [12], 'anand': [14], 'suraj': [20], 'akhil': [25], 'ashish': [30]}\n",
    "# Example 2:\n",
    "\n",
    "# Input:\n",
    "\n",
    "# [('A', 1), ('B', 2), ('C', 3)]\n",
    "# Output:\n",
    "\n",
    "# {'A': [1], 'B': [2], 'C': [3]}\n",
    "\n",
    "a = [(\"akash\", 10), (\"gaurav\", 12), (\"anand\", 14), (\"suraj\", 20), (\"akhil\", 25), (\"ashish\", 30)]\n",
    "\n",
    "res = {}\n",
    "\n",
    "for i,j in a:\n",
    "    res[i] = [j]\n",
    "\n",
    "print(res)"
   ]
  },
  {
   "cell_type": "code",
   "execution_count": null,
   "id": "ab16255d-1f4d-4924-96f9-2466600ade80",
   "metadata": {},
   "outputs": [],
   "source": []
  }
 ],
 "metadata": {
  "kernelspec": {
   "display_name": "Python 3 (ipykernel)",
   "language": "python",
   "name": "python3"
  },
  "language_info": {
   "codemirror_mode": {
    "name": "ipython",
    "version": 3
   },
   "file_extension": ".py",
   "mimetype": "text/x-python",
   "name": "python",
   "nbconvert_exporter": "python",
   "pygments_lexer": "ipython3",
   "version": "3.11.7"
  }
 },
 "nbformat": 4,
 "nbformat_minor": 5
}
