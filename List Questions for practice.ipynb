{
 "cells": [
  {
   "cell_type": "code",
   "execution_count": 5,
   "id": "d609ccfe-4a5d-4d07-9d65-f5c78986eeea",
   "metadata": {},
   "outputs": [
    {
     "name": "stdout",
     "output_type": "stream",
     "text": [
      "[['M', 'y'], ['na', 'me'], ['i', 's'], ['Kh', 'an']]\n"
     ]
    }
   ],
   "source": [
    "# Combine two lists index-wise(columns wise)\n",
    "# Given List:\n",
    "\n",
    "# list1 = [\"M\", \"na\", \"i\", \"Kh\"]\n",
    "# list2 = [\"y\", \"me\", \"s\", \"an\"]\n",
    "\n",
    "# Output:\n",
    "\n",
    "# [['M','y'], ['na', me'], ['i', 's'], ['Kh', 'an']]\n",
    "\n",
    "list1 = [\"M\", \"na\", \"i\", \"Kh\"]\n",
    "list2 = [\"y\", \"me\", \"s\", \"an\"]\n",
    "\n",
    "list = [[]]\n",
    "\n",
    "list = [[i,j] for i,j in zip(list1,list2)]\n",
    "print(list)"
   ]
  },
  {
   "cell_type": "code",
   "execution_count": 19,
   "id": "7e35dd74-bd28-4ce3-93b8-7a94884c1d81",
   "metadata": {},
   "outputs": [
    {
     "name": "stdout",
     "output_type": "stream",
     "text": [
      "[10, 20, [300, 400, [5000, 6000, 7000], 500], 30, 40]\n"
     ]
    }
   ],
   "source": [
    "# Add new item to list after a specified item\n",
    "# Write a program to add item 7000 after 6000 in the following Python List\n",
    "# list1 = [10, 20, [300, 400, [5000, 6000], 500], 30, 40]\n",
    "# [10, 20, [300, 400, [5000, 6000, 7000], 500], 30, 40]\n",
    "\n",
    "list1 = [10, 20, [300, 400, [5000, 6000], 500], 30, 40]\n",
    "\n",
    "list2 = list1[2][2].insert(2,7000)\n",
    "print(list1)"
   ]
  },
  {
   "cell_type": "code",
   "execution_count": 35,
   "id": "7b215364-3a0d-4ce4-a43b-1801b2fdac3a",
   "metadata": {},
   "outputs": [
    {
     "name": "stdout",
     "output_type": "stream",
     "text": [
      "Jelly Belly-10\n",
      "Kit Kat-20\n",
      "Double Bubble-34\n",
      "Milky Way-74\n",
      "Three Musketeers-32\n"
     ]
    }
   ],
   "source": [
    "# Update no of items available\n",
    "# candy_list = ['Jelly Belly','Kit Kat','Double Bubble','Milky Way','Three Musketeers']\n",
    "# no_of_items = [10,20,34,74,32]\n",
    "\n",
    "# output:\n",
    "\n",
    "# Jelly Belly-10\n",
    "# Kit Kat-20\n",
    "# Double Bubble-34\n",
    "# Milky Way-74\n",
    "# Three Musketeers-32\n",
    "\n",
    "candy_list = ['Jelly Belly','Kit Kat','Double Bubble','Milky Way','Three Musketeers']\n",
    "no_of_items = [10,20,34,74,32]\n",
    "\n",
    "for i,j in zip(candy_list, no_of_items):\n",
    "    print(f\"{i}-{j}\")\n",
    "\n",
    "\n",
    "\n"
   ]
  },
  {
   "cell_type": "code",
   "execution_count": 41,
   "id": "18d757a8-aecc-4fb6-9bac-66f79fff4405",
   "metadata": {},
   "outputs": [
    {
     "name": "stdout",
     "output_type": "stream",
     "text": [
      "[1, 3, 6, 10, 15, 21]\n"
     ]
    }
   ],
   "source": [
    "# Running Sum on list\n",
    "# list1 = [1,2,3,4,5,6]\n",
    "# Output:\n",
    "\n",
    "# [1,3,6,10,15,21]\n",
    "\n",
    "list1 = [1,2,3,4,5,6]\n",
    "\n",
    "list = []\n",
    "sum = 0\n",
    "\n",
    "for i in list1:\n",
    "    sum  += i\n",
    "    list.append(sum)\n",
    "    \n",
    "print(list)\n",
    "    "
   ]
  },
  {
   "cell_type": "code",
   "execution_count": 74,
   "id": "a60f6756-077a-411f-bb05-e48fcc2c9409",
   "metadata": {},
   "outputs": [
    {
     "name": "stdout",
     "output_type": "stream",
     "text": [
      "[22, 20, 16, 10, 23]\n"
     ]
    }
   ],
   "source": [
    "# You are given a list of integers. \n",
    "# You are asked to make a list by running through elements of the list by adding all elements greater and itself.\n",
    "# i.e. Say given list is [2,4,6,10,1] resultant list will be [22,20,10,23].\n",
    "\n",
    "# For 1st element 2 ->> these are greater (4+6+10) values and 2 itself so on adding becomes 22.\n",
    "\n",
    "# For 2nd element 4 ->> greater elements are (6, 10) and 4 itself, so on adding 20\n",
    "\n",
    "# like wise for all other elememts.\n",
    "\n",
    "# [2,4,6,10,1]-->[22,20,16,10,23]\n",
    "\n",
    "list = [2,4,6,10,1]\n",
    "list1 = []\n",
    "\n",
    "\n",
    "for i in list:\n",
    "    total_sum = 0\n",
    "    for j in list:\n",
    "        if j>=i:\n",
    "            total_sum +=j\n",
    "  #  total_sum = sum([j for j in list if j>=i]) -- > also correct way\n",
    "    list1.append(total_sum)\n",
    "\n",
    "\n",
    "print(list1)"
   ]
  },
  {
   "cell_type": "code",
   "execution_count": 86,
   "id": "85b82bd9-3d1b-4993-a5c4-9d92fb5b9be7",
   "metadata": {},
   "outputs": [
    {
     "name": "stdout",
     "output_type": "stream",
     "text": [
      "[34, 67, 89]\n"
     ]
    }
   ],
   "source": [
    "# Find list of common unique items from two list. and show in increasing order\n",
    "# Input\n",
    "\n",
    "# num1 = [23,45,67,78,89,34]\n",
    "# num2 = [34,89,55,56,39,67]\n",
    "\n",
    "# Output:\n",
    "\n",
    "# [34, 67, 89]\n",
    "\n",
    "num1 = [23,45,67,78,89,34]\n",
    "num2 = [34,89,55,56,39,67]\n",
    "newlist = []\n",
    "\n",
    "for i in num1:\n",
    "    for j in num2:\n",
    "        if i==j:\n",
    "            newlist.append(j)\n",
    "            newlist.sort()\n",
    "print(newlist)\n",
    "            "
   ]
  },
  {
   "cell_type": "code",
   "execution_count": 119,
   "id": "66a251c7-d3d1-432b-8881-f78e4386d3a2",
   "metadata": {},
   "outputs": [
    {
     "name": "stdout",
     "output_type": "stream",
     "text": [
      "['456', '23fg', '1ac21', '1', 'kls', '098d']\n"
     ]
    }
   ],
   "source": [
    "# Sort a list of alphanumeric strings based on product value of numeric character in it. \n",
    "# If in any string there is no numeric character take it's product value as 1.\n",
    "\n",
    "# Input:\n",
    "# ['1ac21', '23fg', '456', '098d','1','kls']\n",
    "\n",
    "# Output:\n",
    "# ['456', '23fg', '1ac21', '1', 'kls', '098d']\n",
    "\n",
    "import math\n",
    "\n",
    "a = ['1ac21', '23fg', '456', '098d','1','kls']\n",
    "\n",
    "def pro_duct(s):\n",
    "    pg = [int(i) for i in s if i.isdigit()]\n",
    "    return math.prod(pg) if pg else 1\n",
    "\n",
    "a.sort(key = pro_duct ,reverse= True)\n",
    "print(a)"
   ]
  },
  {
   "cell_type": "code",
   "execution_count": 138,
   "id": "2dfa585e-5741-4732-a825-7de5349be93e",
   "metadata": {},
   "outputs": [
    {
     "name": "stdout",
     "output_type": "stream",
     "text": [
      "['CampusX', 'is', 'a', 'channel', 'for', 'data-science', 'aspirants.']\n"
     ]
    }
   ],
   "source": [
    "#  Split String of list on K character.\n",
    "# Input:\n",
    "# ['CampusX is a channel', 'for data-science', 'aspirants.']\n",
    "\n",
    "# Output:\n",
    "# ['CampusX', 'is', 'a', 'channel', 'for', 'data-science', 'aspirants.']\n",
    "\n",
    "a = ['CampusX is a channel', 'for data-science', 'aspirants.']\n",
    "\n",
    "sg = [word for sentence in a for word in sentence.split()]\n",
    "    \n",
    "print(sg) "
   ]
  },
  {
   "cell_type": "code",
   "execution_count": 146,
   "id": "9fd9e7d0-0b52-49bd-b5d8-0660b879c877",
   "metadata": {},
   "outputs": [
    {
     "name": "stdout",
     "output_type": "stream",
     "text": [
      "campux is best channel\n"
     ]
    }
   ],
   "source": [
    "# Convert Character Matrix to single String using string comprehension.\n",
    "# [['c', 'a', 'm', 'p', 'u', 'x'], ['i', 's'], ['b', 'e', 's', 't'], ['c', 'h', 'a', 'n', 'n', 'e', 'l']]\n",
    "\n",
    "# output: campux is best channel\n",
    "\n",
    "a = [['c', 'a', 'm', 'p', 'u', 'x'], ['i', 's'], ['b', 'e', 's', 't'], ['c', 'h', 'a', 'n', 'n', 'e', 'l']]\n",
    "\n",
    "# Convert matrix to a single string\n",
    "result = ' '.join([''.join(word) for word in a])\n",
    "\n",
    "# Output the result\n",
    "print(result)"
   ]
  },
  {
   "cell_type": "code",
   "execution_count": 172,
   "id": "b7e2527f-3bec-4327-8c87-e7234aefec6b",
   "metadata": {},
   "outputs": [
    {
     "name": "stdout",
     "output_type": "stream",
     "text": [
      "[1, 2, 3, 4, 5]\n",
      "[1, 2, 3, 4, 5, 7, 8]\n"
     ]
    }
   ],
   "source": [
    "# Write a program that can perform union operation on 2 lists\n",
    "\n",
    "# Input:\n",
    "# [1,2,3,4,5,1]\n",
    "# [2,3,5,7,8]\n",
    "\n",
    "# Output:\n",
    "# [1,2,3,4,5,7,8]\n",
    "\n",
    "a = [1,2,3,4,5,1]\n",
    "b = [2,3,5,7,8]\n",
    "\n",
    "c = []\n",
    "\n",
    "\n",
    "\n",
    "for i in a:\n",
    "    if i not in c:\n",
    "        c.append(i)\n",
    "print(c)\n",
    "\n",
    "for j in b:\n",
    "    if j not in c:\n",
    "        c.append(j)\n",
    "print(c)\n",
    "\n",
    "    "
   ]
  },
  {
   "cell_type": "code",
   "execution_count": null,
   "id": "32600f2c-de2c-4e08-8858-8c705cad253e",
   "metadata": {},
   "outputs": [],
   "source": []
  }
 ],
 "metadata": {
  "kernelspec": {
   "display_name": "Python 3 (ipykernel)",
   "language": "python",
   "name": "python3"
  },
  "language_info": {
   "codemirror_mode": {
    "name": "ipython",
    "version": 3
   },
   "file_extension": ".py",
   "mimetype": "text/x-python",
   "name": "python",
   "nbconvert_exporter": "python",
   "pygments_lexer": "ipython3",
   "version": "3.11.7"
  }
 },
 "nbformat": 4,
 "nbformat_minor": 5
}
