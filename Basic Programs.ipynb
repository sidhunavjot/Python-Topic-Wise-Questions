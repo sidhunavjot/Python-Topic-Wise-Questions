{
 "cells": [
  {
   "cell_type": "code",
   "execution_count": null,
   "id": "c3fcd6df-e1cb-40cb-873d-f4a4cc68f62a",
   "metadata": {},
   "outputs": [],
   "source": [
    "# list of questions url : https://www.geeksforgeeks.org/python-programming-examples/"
   ]
  },
  {
   "cell_type": "code",
   "execution_count": 1,
   "id": "8b5c71c0-7b1e-4a7c-9072-cb566b0bea24",
   "metadata": {},
   "outputs": [
    {
     "name": "stdout",
     "output_type": "stream",
     "text": [
      "15\n"
     ]
    }
   ],
   "source": [
    "# 1) How to Add Two Numbers in Python\n",
    "# url: https://www.geeksforgeeks.org/python-program-to-add-two-numbers/\n",
    "\n",
    "def  add(a,b):\n",
    "    add= a+b\n",
    "    return add\n",
    "print(add(5,10))"
   ]
  },
  {
   "cell_type": "code",
   "execution_count": 11,
   "id": "d130c324-5275-47a7-bfd2-2f4c65172265",
   "metadata": {},
   "outputs": [
    {
     "name": "stdout",
     "output_type": "stream",
     "text": [
      "both are equal\n",
      "None\n",
      "10\n"
     ]
    }
   ],
   "source": [
    "# 2) Maximum of two numbers in Python\n",
    "\n",
    "def max(a,b):\n",
    "    if a>b:\n",
    "        return a\n",
    "    if b>a:\n",
    "        return b\n",
    "    else: print(\"both are equal\")\n",
    "\n",
    "print (max(10,10))\n",
    "print (max(5,10))"
   ]
  },
  {
   "cell_type": "code",
   "execution_count": 26,
   "id": "93792c76-0f2c-4e4f-9a4a-c6996064a5f9",
   "metadata": {},
   "outputs": [
    {
     "name": "stdout",
     "output_type": "stream",
     "text": [
      "6\n"
     ]
    }
   ],
   "source": [
    "# 3) Python Program for factorial of a number\n",
    "\n",
    "# factorial = n(n-1)(n-2)(n-3)...3,2,1\n",
    "\n",
    "def facto(n):\n",
    "    fact= 1\n",
    "    for i in range (1,n+1):\n",
    "        fact = fact*i\n",
    "    return fact\n",
    "        \n",
    "print(facto(3))\n",
    "\n",
    "\n",
    "\n"
   ]
  },
  {
   "cell_type": "code",
   "execution_count": 28,
   "id": "aababe85-4f62-448f-9514-14dfd85a803c",
   "metadata": {},
   "outputs": [
    {
     "name": "stdout",
     "output_type": "stream",
     "text": [
      "36600.0\n"
     ]
    }
   ],
   "source": [
    "# 4) Python Program for simple interest\n",
    "\n",
    "# S.I. = (P × R × T)/100\n",
    "\n",
    "def SI(p,r,t):\n",
    "    si = (p*r*t)/100\n",
    "    return si\n",
    "\n",
    "print(SI(100000, 12.2, 3))"
   ]
  },
  {
   "cell_type": "code",
   "execution_count": 30,
   "id": "400f1dc8-db76-4995-a9f3-00da6f9d6a56",
   "metadata": {},
   "outputs": [
    {
     "name": "stdout",
     "output_type": "stream",
     "text": [
      "229896799.99999997\n"
     ]
    }
   ],
   "source": [
    "# 5) Python Program for compound interest\n",
    "\n",
    "# ((P*(1+i)^n) - P)\n",
    "\n",
    "def ci(p,i,n):\n",
    "    ci = ((p*(1+i)**n) - p)\n",
    "    return ci\n",
    "\n",
    "print(ci(100000,12.2,3))"
   ]
  },
  {
   "cell_type": "code",
   "execution_count": null,
   "id": "e6fc31da-ff24-47ea-9f0f-d1af8158fd7d",
   "metadata": {},
   "outputs": [],
   "source": [
    "# 6) Python Program to check Armstrong Number\n",
    "\n",
    "# a number that equals the sum of its digits, each raised to a power\n",
    "# 1^3 + 5^3 + 3^3 equals 153.\n",
    "\n"
   ]
  },
  {
   "cell_type": "code",
   "execution_count": 2,
   "id": "7f2a19f1-20b0-425f-8de9-9f360ed9b6db",
   "metadata": {},
   "outputs": [
    {
     "name": "stdout",
     "output_type": "stream",
     "text": [
      "804.352\n"
     ]
    }
   ],
   "source": [
    "# 7) Python Program for Program to find area of a circle\n",
    "\n",
    "\n",
    "\n",
    "pie = 3.142\n",
    "def area(r):\n",
    "    a = pie*(r**2)\n",
    "    return a\n",
    "\n",
    "print(area(16))\n",
    "    "
   ]
  },
  {
   "cell_type": "code",
   "execution_count": 6,
   "id": "633de76f-c2e7-496e-93b3-c084ab17a68a",
   "metadata": {},
   "outputs": [
    {
     "name": "stdout",
     "output_type": "stream",
     "text": [
      "Number is a prime\n",
      "Number is a prime\n",
      "Number is a prime\n",
      "None\n"
     ]
    }
   ],
   "source": [
    "# 8) Python program to print all Prime numbers in an Interval\n",
    "import math \n",
    "\n",
    "def prime(n):\n",
    "    for i in range (2,int(math.sqrt(n))):\n",
    "        if n%i == 0:\n",
    "            break\n",
    "            print(\"Number is NOT prime\")\n",
    "        else:\n",
    "            print(\"Number is a prime\")\n",
    "            \n",
    "print(prime(25))"
   ]
  },
  {
   "cell_type": "code",
   "execution_count": 8,
   "id": "b699a33a-fc67-4c31-bca2-d2ddb1e72c51",
   "metadata": {},
   "outputs": [
    {
     "name": "stdout",
     "output_type": "stream",
     "text": [
      "25 is NOT a prime number\n"
     ]
    }
   ],
   "source": [
    "import math\n",
    "\n",
    "def is_prime(n):\n",
    "    if n <= 1:\n",
    "        return False  # 0 and 1 are not prime numbers\n",
    "    \n",
    "    for i in range(2, int(math.sqrt(n)) + 1):\n",
    "        if n % i == 0:\n",
    "            return False  # If divisible, it's not prime\n",
    "\n",
    "    return True  # If no divisors were found, it's prime\n",
    "\n",
    "# Test the function\n",
    "n = 25\n",
    "if is_prime(n):\n",
    "    print(f\"{n} is a prime number\")\n",
    "else:\n",
    "    print(f\"{n} is NOT a prime number\")"
   ]
  },
  {
   "cell_type": "code",
   "execution_count": null,
   "id": "bbcd4df4-821e-434d-8a27-b705da9d1ed4",
   "metadata": {},
   "outputs": [],
   "source": [
    "# 9) Python Program for n-th Fibonacci number\n",
    "\n"
   ]
  },
  {
   "cell_type": "code",
   "execution_count": 16,
   "id": "c5193573-7ead-43b5-9c10-549e99ea61b6",
   "metadata": {},
   "outputs": [
    {
     "name": "stdout",
     "output_type": "stream",
     "text": [
      "55\n"
     ]
    }
   ],
   "source": [
    "# 10) Python Program for Sum of squares of first n natural numbers\n",
    "\n",
    "def sqrsum(n):\n",
    "    sum = 0\n",
    "    for i in range(1,n+1):\n",
    "        sum = sum + (i)**2\n",
    "    return sum\n",
    "print(sqrsum(5))"
   ]
  },
  {
   "cell_type": "code",
   "execution_count": null,
   "id": "239a9485-93e6-492f-a220-59b710ee39b6",
   "metadata": {},
   "outputs": [],
   "source": [
    "# 11) Python Program for cube sum of first n natural numbers\n",
    "\n",
    "def cubesum(n):\n",
    "    sum = 0\n",
    "    for i in range(1,n+1):\n",
    "        sum = sum + n**3\n",
    "    return sum\n",
    "\n",
    "print(cubesum(5))"
   ]
  }
 ],
 "metadata": {
  "kernelspec": {
   "display_name": "Python 3 (ipykernel)",
   "language": "python",
   "name": "python3"
  },
  "language_info": {
   "codemirror_mode": {
    "name": "ipython",
    "version": 3
   },
   "file_extension": ".py",
   "mimetype": "text/x-python",
   "name": "python",
   "nbconvert_exporter": "python",
   "pygments_lexer": "ipython3",
   "version": "3.11.7"
  }
 },
 "nbformat": 4,
 "nbformat_minor": 5
}
